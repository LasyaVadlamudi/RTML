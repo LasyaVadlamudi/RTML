{
  "nbformat": 4,
  "nbformat_minor": 0,
  "metadata": {
    "colab": {
      "provenance": []
    },
    "kernelspec": {
      "name": "python3",
      "display_name": "Python 3"
    },
    "language_info": {
      "name": "python"
    },
    "accelerator": "GPU",
    "gpuClass": "standard"
  },
  "cells": [
    {
      "cell_type": "markdown",
      "source": [
        "# Homework 3: CIFAR-10 Dataset\n",
        "## Course : Real-Time Machine Learning 5106\n",
        "### Name : Lasya Vadlamudi\n",
        "### Student ID : 801318796\n",
        "### Github Link : https://github.com/LasyaVadlamudi/RTML\n"
      ],
      "metadata": {
        "id": "ODAhs7kQ56RM"
      }
    },
    {
      "cell_type": "code",
      "execution_count": 1,
      "metadata": {
        "colab": {
          "base_uri": "https://localhost:8080/"
        },
        "id": "2mpIqH-x4Za6",
        "outputId": "c5169f0a-53ac-4e99-a62f-19b687114093"
      },
      "outputs": [
        {
          "output_type": "stream",
          "name": "stdout",
          "text": [
            "Looking in indexes: https://pypi.org/simple, https://us-python.pkg.dev/colab-wheels/public/simple/\n",
            "Requirement already satisfied: d2l==1.0.0-beta0 in /usr/local/lib/python3.9/dist-packages (1.0.0b0)\n",
            "Requirement already satisfied: matplotlib in /usr/local/lib/python3.9/dist-packages (from d2l==1.0.0-beta0) (3.5.3)\n",
            "Requirement already satisfied: scipy in /usr/local/lib/python3.9/dist-packages (from d2l==1.0.0-beta0) (1.10.1)\n",
            "Requirement already satisfied: requests in /usr/local/lib/python3.9/dist-packages (from d2l==1.0.0-beta0) (2.25.1)\n",
            "Requirement already satisfied: matplotlib-inline in /usr/local/lib/python3.9/dist-packages (from d2l==1.0.0-beta0) (0.1.6)\n",
            "Requirement already satisfied: jupyter in /usr/local/lib/python3.9/dist-packages (from d2l==1.0.0-beta0) (1.0.0)\n",
            "Requirement already satisfied: gpytorch in /usr/local/lib/python3.9/dist-packages (from d2l==1.0.0-beta0) (1.9.1)\n",
            "Requirement already satisfied: numpy in /usr/local/lib/python3.9/dist-packages (from d2l==1.0.0-beta0) (1.22.4)\n",
            "Requirement already satisfied: gym==0.21.0 in /usr/local/lib/python3.9/dist-packages (from d2l==1.0.0-beta0) (0.21.0)\n",
            "Requirement already satisfied: pandas in /usr/local/lib/python3.9/dist-packages (from d2l==1.0.0-beta0) (1.3.5)\n",
            "Requirement already satisfied: cloudpickle>=1.2.0 in /usr/local/lib/python3.9/dist-packages (from gym==0.21.0->d2l==1.0.0-beta0) (2.2.1)\n",
            "Requirement already satisfied: linear-operator>=0.2.0 in /usr/local/lib/python3.9/dist-packages (from gpytorch->d2l==1.0.0-beta0) (0.3.0)\n",
            "Requirement already satisfied: scikit-learn in /usr/local/lib/python3.9/dist-packages (from gpytorch->d2l==1.0.0-beta0) (1.2.1)\n",
            "Requirement already satisfied: qtconsole in /usr/local/lib/python3.9/dist-packages (from jupyter->d2l==1.0.0-beta0) (5.4.0)\n",
            "Requirement already satisfied: ipywidgets in /usr/local/lib/python3.9/dist-packages (from jupyter->d2l==1.0.0-beta0) (7.7.1)\n",
            "Requirement already satisfied: ipykernel in /usr/local/lib/python3.9/dist-packages (from jupyter->d2l==1.0.0-beta0) (5.3.4)\n",
            "Requirement already satisfied: notebook in /usr/local/lib/python3.9/dist-packages (from jupyter->d2l==1.0.0-beta0) (6.3.0)\n",
            "Requirement already satisfied: jupyter-console in /usr/local/lib/python3.9/dist-packages (from jupyter->d2l==1.0.0-beta0) (6.1.0)\n",
            "Requirement already satisfied: nbconvert in /usr/local/lib/python3.9/dist-packages (from jupyter->d2l==1.0.0-beta0) (6.5.4)\n",
            "Requirement already satisfied: packaging>=20.0 in /usr/local/lib/python3.9/dist-packages (from matplotlib->d2l==1.0.0-beta0) (23.0)\n",
            "Requirement already satisfied: pillow>=6.2.0 in /usr/local/lib/python3.9/dist-packages (from matplotlib->d2l==1.0.0-beta0) (8.4.0)\n",
            "Requirement already satisfied: python-dateutil>=2.7 in /usr/local/lib/python3.9/dist-packages (from matplotlib->d2l==1.0.0-beta0) (2.8.2)\n",
            "Requirement already satisfied: pyparsing>=2.2.1 in /usr/local/lib/python3.9/dist-packages (from matplotlib->d2l==1.0.0-beta0) (3.0.9)\n",
            "Requirement already satisfied: cycler>=0.10 in /usr/local/lib/python3.9/dist-packages (from matplotlib->d2l==1.0.0-beta0) (0.11.0)\n",
            "Requirement already satisfied: kiwisolver>=1.0.1 in /usr/local/lib/python3.9/dist-packages (from matplotlib->d2l==1.0.0-beta0) (1.4.4)\n",
            "Requirement already satisfied: fonttools>=4.22.0 in /usr/local/lib/python3.9/dist-packages (from matplotlib->d2l==1.0.0-beta0) (4.39.0)\n",
            "Requirement already satisfied: traitlets in /usr/local/lib/python3.9/dist-packages (from matplotlib-inline->d2l==1.0.0-beta0) (5.7.1)\n",
            "Requirement already satisfied: pytz>=2017.3 in /usr/local/lib/python3.9/dist-packages (from pandas->d2l==1.0.0-beta0) (2022.7.1)\n",
            "Requirement already satisfied: urllib3<1.27,>=1.21.1 in /usr/local/lib/python3.9/dist-packages (from requests->d2l==1.0.0-beta0) (1.26.14)\n",
            "Requirement already satisfied: idna<3,>=2.5 in /usr/local/lib/python3.9/dist-packages (from requests->d2l==1.0.0-beta0) (2.10)\n",
            "Requirement already satisfied: certifi>=2017.4.17 in /usr/local/lib/python3.9/dist-packages (from requests->d2l==1.0.0-beta0) (2022.12.7)\n",
            "Requirement already satisfied: chardet<5,>=3.0.2 in /usr/local/lib/python3.9/dist-packages (from requests->d2l==1.0.0-beta0) (4.0.0)\n",
            "Requirement already satisfied: torch>=1.11 in /usr/local/lib/python3.9/dist-packages (from linear-operator>=0.2.0->gpytorch->d2l==1.0.0-beta0) (1.13.1+cu116)\n",
            "Requirement already satisfied: six>=1.5 in /usr/local/lib/python3.9/dist-packages (from python-dateutil>=2.7->matplotlib->d2l==1.0.0-beta0) (1.15.0)\n",
            "Requirement already satisfied: jupyter-client in /usr/local/lib/python3.9/dist-packages (from ipykernel->jupyter->d2l==1.0.0-beta0) (6.1.12)\n",
            "Requirement already satisfied: tornado>=4.2 in /usr/local/lib/python3.9/dist-packages (from ipykernel->jupyter->d2l==1.0.0-beta0) (6.2)\n",
            "Requirement already satisfied: ipython>=5.0.0 in /usr/local/lib/python3.9/dist-packages (from ipykernel->jupyter->d2l==1.0.0-beta0) (7.9.0)\n",
            "Requirement already satisfied: jupyterlab-widgets>=1.0.0 in /usr/local/lib/python3.9/dist-packages (from ipywidgets->jupyter->d2l==1.0.0-beta0) (3.0.5)\n",
            "Requirement already satisfied: ipython-genutils~=0.2.0 in /usr/local/lib/python3.9/dist-packages (from ipywidgets->jupyter->d2l==1.0.0-beta0) (0.2.0)\n",
            "Requirement already satisfied: widgetsnbextension~=3.6.0 in /usr/local/lib/python3.9/dist-packages (from ipywidgets->jupyter->d2l==1.0.0-beta0) (3.6.2)\n",
            "Requirement already satisfied: pygments in /usr/local/lib/python3.9/dist-packages (from jupyter-console->jupyter->d2l==1.0.0-beta0) (2.6.1)\n",
            "Requirement already satisfied: prompt-toolkit!=3.0.0,!=3.0.1,<3.1.0,>=2.0.0 in /usr/local/lib/python3.9/dist-packages (from jupyter-console->jupyter->d2l==1.0.0-beta0) (2.0.10)\n",
            "Requirement already satisfied: nbclient>=0.5.0 in /usr/local/lib/python3.9/dist-packages (from nbconvert->jupyter->d2l==1.0.0-beta0) (0.7.2)\n",
            "Requirement already satisfied: defusedxml in /usr/local/lib/python3.9/dist-packages (from nbconvert->jupyter->d2l==1.0.0-beta0) (0.7.1)\n",
            "Requirement already satisfied: tinycss2 in /usr/local/lib/python3.9/dist-packages (from nbconvert->jupyter->d2l==1.0.0-beta0) (1.2.1)\n",
            "Requirement already satisfied: bleach in /usr/local/lib/python3.9/dist-packages (from nbconvert->jupyter->d2l==1.0.0-beta0) (6.0.0)\n",
            "Requirement already satisfied: lxml in /usr/local/lib/python3.9/dist-packages (from nbconvert->jupyter->d2l==1.0.0-beta0) (4.9.2)\n",
            "Requirement already satisfied: mistune<2,>=0.8.1 in /usr/local/lib/python3.9/dist-packages (from nbconvert->jupyter->d2l==1.0.0-beta0) (0.8.4)\n",
            "Requirement already satisfied: beautifulsoup4 in /usr/local/lib/python3.9/dist-packages (from nbconvert->jupyter->d2l==1.0.0-beta0) (4.6.3)\n",
            "Requirement already satisfied: nbformat>=5.1 in /usr/local/lib/python3.9/dist-packages (from nbconvert->jupyter->d2l==1.0.0-beta0) (5.7.3)\n",
            "Requirement already satisfied: jupyter-core>=4.7 in /usr/local/lib/python3.9/dist-packages (from nbconvert->jupyter->d2l==1.0.0-beta0) (5.2.0)\n",
            "Requirement already satisfied: jupyterlab-pygments in /usr/local/lib/python3.9/dist-packages (from nbconvert->jupyter->d2l==1.0.0-beta0) (0.2.2)\n",
            "Requirement already satisfied: jinja2>=3.0 in /usr/local/lib/python3.9/dist-packages (from nbconvert->jupyter->d2l==1.0.0-beta0) (3.1.2)\n",
            "Requirement already satisfied: entrypoints>=0.2.2 in /usr/local/lib/python3.9/dist-packages (from nbconvert->jupyter->d2l==1.0.0-beta0) (0.4)\n",
            "Requirement already satisfied: pandocfilters>=1.4.1 in /usr/local/lib/python3.9/dist-packages (from nbconvert->jupyter->d2l==1.0.0-beta0) (1.5.0)\n",
            "Requirement already satisfied: MarkupSafe>=2.0 in /usr/local/lib/python3.9/dist-packages (from nbconvert->jupyter->d2l==1.0.0-beta0) (2.1.2)\n",
            "Requirement already satisfied: Send2Trash>=1.5.0 in /usr/local/lib/python3.9/dist-packages (from notebook->jupyter->d2l==1.0.0-beta0) (1.8.0)\n",
            "Requirement already satisfied: prometheus-client in /usr/local/lib/python3.9/dist-packages (from notebook->jupyter->d2l==1.0.0-beta0) (0.16.0)\n",
            "Requirement already satisfied: pyzmq>=17 in /usr/local/lib/python3.9/dist-packages (from notebook->jupyter->d2l==1.0.0-beta0) (23.2.1)\n",
            "Requirement already satisfied: argon2-cffi in /usr/local/lib/python3.9/dist-packages (from notebook->jupyter->d2l==1.0.0-beta0) (21.3.0)\n",
            "Requirement already satisfied: terminado>=0.8.3 in /usr/local/lib/python3.9/dist-packages (from notebook->jupyter->d2l==1.0.0-beta0) (0.17.1)\n",
            "Requirement already satisfied: qtpy>=2.0.1 in /usr/local/lib/python3.9/dist-packages (from qtconsole->jupyter->d2l==1.0.0-beta0) (2.3.0)\n",
            "Requirement already satisfied: threadpoolctl>=2.0.0 in /usr/local/lib/python3.9/dist-packages (from scikit-learn->gpytorch->d2l==1.0.0-beta0) (3.1.0)\n",
            "Requirement already satisfied: joblib>=1.1.1 in /usr/local/lib/python3.9/dist-packages (from scikit-learn->gpytorch->d2l==1.0.0-beta0) (1.2.0)\n",
            "Requirement already satisfied: pexpect in /usr/local/lib/python3.9/dist-packages (from ipython>=5.0.0->ipykernel->jupyter->d2l==1.0.0-beta0) (4.8.0)\n",
            "Requirement already satisfied: jedi>=0.10 in /usr/local/lib/python3.9/dist-packages (from ipython>=5.0.0->ipykernel->jupyter->d2l==1.0.0-beta0) (0.18.2)\n",
            "Requirement already satisfied: pickleshare in /usr/local/lib/python3.9/dist-packages (from ipython>=5.0.0->ipykernel->jupyter->d2l==1.0.0-beta0) (0.7.5)\n",
            "Requirement already satisfied: setuptools>=18.5 in /usr/local/lib/python3.9/dist-packages (from ipython>=5.0.0->ipykernel->jupyter->d2l==1.0.0-beta0) (57.4.0)\n",
            "Requirement already satisfied: decorator in /usr/local/lib/python3.9/dist-packages (from ipython>=5.0.0->ipykernel->jupyter->d2l==1.0.0-beta0) (4.4.2)\n",
            "Requirement already satisfied: backcall in /usr/local/lib/python3.9/dist-packages (from ipython>=5.0.0->ipykernel->jupyter->d2l==1.0.0-beta0) (0.2.0)\n",
            "Requirement already satisfied: platformdirs>=2.5 in /usr/local/lib/python3.9/dist-packages (from jupyter-core>=4.7->nbconvert->jupyter->d2l==1.0.0-beta0) (3.1.0)\n",
            "Requirement already satisfied: fastjsonschema in /usr/local/lib/python3.9/dist-packages (from nbformat>=5.1->nbconvert->jupyter->d2l==1.0.0-beta0) (2.16.3)\n",
            "Requirement already satisfied: jsonschema>=2.6 in /usr/local/lib/python3.9/dist-packages (from nbformat>=5.1->nbconvert->jupyter->d2l==1.0.0-beta0) (4.3.3)\n",
            "Requirement already satisfied: wcwidth in /usr/local/lib/python3.9/dist-packages (from prompt-toolkit!=3.0.0,!=3.0.1,<3.1.0,>=2.0.0->jupyter-console->jupyter->d2l==1.0.0-beta0) (0.2.6)\n",
            "Requirement already satisfied: ptyprocess in /usr/local/lib/python3.9/dist-packages (from terminado>=0.8.3->notebook->jupyter->d2l==1.0.0-beta0) (0.7.0)\n",
            "Requirement already satisfied: typing-extensions in /usr/local/lib/python3.9/dist-packages (from torch>=1.11->linear-operator>=0.2.0->gpytorch->d2l==1.0.0-beta0) (4.5.0)\n",
            "Requirement already satisfied: argon2-cffi-bindings in /usr/local/lib/python3.9/dist-packages (from argon2-cffi->notebook->jupyter->d2l==1.0.0-beta0) (21.2.0)\n",
            "Requirement already satisfied: webencodings in /usr/local/lib/python3.9/dist-packages (from bleach->nbconvert->jupyter->d2l==1.0.0-beta0) (0.5.1)\n",
            "Requirement already satisfied: parso<0.9.0,>=0.8.0 in /usr/local/lib/python3.9/dist-packages (from jedi>=0.10->ipython>=5.0.0->ipykernel->jupyter->d2l==1.0.0-beta0) (0.8.3)\n",
            "Requirement already satisfied: pyrsistent!=0.17.0,!=0.17.1,!=0.17.2,>=0.14.0 in /usr/local/lib/python3.9/dist-packages (from jsonschema>=2.6->nbformat>=5.1->nbconvert->jupyter->d2l==1.0.0-beta0) (0.19.3)\n",
            "Requirement already satisfied: attrs>=17.4.0 in /usr/local/lib/python3.9/dist-packages (from jsonschema>=2.6->nbformat>=5.1->nbconvert->jupyter->d2l==1.0.0-beta0) (22.2.0)\n",
            "Requirement already satisfied: cffi>=1.0.1 in /usr/local/lib/python3.9/dist-packages (from argon2-cffi-bindings->argon2-cffi->notebook->jupyter->d2l==1.0.0-beta0) (1.15.1)\n",
            "Requirement already satisfied: pycparser in /usr/local/lib/python3.9/dist-packages (from cffi>=1.0.1->argon2-cffi-bindings->argon2-cffi->notebook->jupyter->d2l==1.0.0-beta0) (2.21)\n",
            "Looking in indexes: https://pypi.org/simple, https://us-python.pkg.dev/colab-wheels/public/simple/\n",
            "Requirement already satisfied: ptflops in /usr/local/lib/python3.9/dist-packages (0.6.9)\n",
            "Requirement already satisfied: torch in /usr/local/lib/python3.9/dist-packages (from ptflops) (1.13.1+cu116)\n",
            "Requirement already satisfied: typing-extensions in /usr/local/lib/python3.9/dist-packages (from torch->ptflops) (4.5.0)\n",
            "Looking in indexes: https://pypi.org/simple, https://us-python.pkg.dev/colab-wheels/public/simple/\n",
            "Requirement already satisfied: torchmetrics in /usr/local/lib/python3.9/dist-packages (0.11.3)\n",
            "Requirement already satisfied: torch>=1.8.1 in /usr/local/lib/python3.9/dist-packages (from torchmetrics) (1.13.1+cu116)\n",
            "Requirement already satisfied: numpy>=1.17.2 in /usr/local/lib/python3.9/dist-packages (from torchmetrics) (1.22.4)\n",
            "Requirement already satisfied: packaging in /usr/local/lib/python3.9/dist-packages (from torchmetrics) (23.0)\n",
            "Requirement already satisfied: typing-extensions in /usr/local/lib/python3.9/dist-packages (from torch>=1.8.1->torchmetrics) (4.5.0)\n"
          ]
        }
      ],
      "source": [
        "!pip install d2l==1.0.0-beta0\n",
        "\n",
        "import cv2\n",
        "import numpy as np\n",
        "import pandas as pd\n",
        "from tqdm import tqdm\n",
        "from datetime import datetime\n",
        "from matplotlib import pyplot as plt\n",
        "\n",
        "import torch\n",
        "\n",
        "from torch import nn\n",
        "from torchvision import datasets,transforms\n",
        "from d2l import torch as d2l\n",
        "\n",
        "!pip install ptflops\n",
        "import ptflops\n",
        "from ptflops import get_model_complexity_info\n",
        "\n",
        "from torch.utils.data import DataLoader, random_split, Subset\n",
        "\n",
        "from torch.nn import functional as F\n",
        "!pip install torchmetrics\n",
        "from torchmetrics.classification import MulticlassAccuracy, BinaryAccuracy\n",
        "from torchmetrics import ConfusionMatrix"
      ]
    },
    {
      "cell_type": "code",
      "source": [
        "train_transform = transforms.Compose([\n",
        "                                        transforms.ToTensor(),\n",
        "                                      transforms.Resize(64),\n",
        "                                        transforms.Normalize((0.29), (0.32)),\n",
        "])\n",
        "\n",
        "test_transform = transforms.Compose([\n",
        "                                        transforms.ToTensor(),\n",
        "                                     transforms.Resize(64),\n",
        "                                        transforms.Normalize((0.29), (0.32)),\n",
        "])\n",
        "\n",
        "cifar_trainset = datasets.CIFAR10(root='./data', train=True, download=True, transform=train_transform)\n",
        "cifar_testset = datasets.CIFAR10(root='./data', train=False, download=True, transform=test_transform)\n",
        "\n",
        "\n",
        "train_cifar, valid_cifar = random_split(cifar_trainset, [0.8, 0.2])\n",
        "trainLoader = DataLoader(train_cifar, batch_size=256, shuffle=True, num_workers=1)\n",
        "validateLoader = DataLoader(valid_cifar, batch_size=256, shuffle=True, num_workers=1)\n",
        "testLoader = DataLoader(cifar_testset, batch_size=256, shuffle=True, num_workers=1)"
      ],
      "metadata": {
        "colab": {
          "base_uri": "https://localhost:8080/"
        },
        "id": "J3vXxiUu4dHI",
        "outputId": "bc37304c-a5d1-44d2-8959-4f541f89d7c4"
      },
      "execution_count": 2,
      "outputs": [
        {
          "output_type": "stream",
          "name": "stdout",
          "text": [
            "Files already downloaded and verified\n",
            "Files already downloaded and verified\n"
          ]
        }
      ]
    },
    {
      "cell_type": "code",
      "source": [
        "class Train_Model: # A class to train and save the developed model and the metrics\n",
        "\n",
        "    \n",
        "    def __init__(self, model, loss, optimizer, accuracy, model_type, device, classes=0):\n",
        "        \n",
        "        self.device = device\n",
        "        self.model = model.to(device) ## Setting the model on GPU\n",
        "        self.Loss_Function = loss\n",
        "        self.optimizer = optimizer\n",
        "        self.accuracy = accuracy\n",
        "        self.model_type = model_type\n",
        "        self.classNum = classes\n",
        "        \n",
        "        # A dictionary to append or store the results\n",
        "        self.Metrics = {\"Training_Loss\":[],\"Training_Accuracy\":[], \"Validation_Loss\":[], \"Validation_Accuracy\":[],\"Test_Accuracy\":0}  \n",
        "        self.ConfMatrix = None\n",
        "    \n",
        "    # Function to train the model\n",
        "    def model_run(self, l_data,run_type):\n",
        "        \n",
        "        if run_type == 'train':\n",
        "          self.model.train() \n",
        "          \n",
        "          if self.model_type == \"Classification\":\n",
        "              MCA = self.accuracy(self.classNum)\n",
        "          else:\n",
        "              MCA = self.accuracy\n",
        "          \n",
        "          loss_sum = 0\n",
        "          acc = 0\n",
        "          \n",
        "          # Iterates over the data\n",
        "          for data, labels in tqdm(l_data):\n",
        "              \n",
        "              # transform data into one-hot vectors\n",
        "              data = data.to(self.device)\n",
        "              if self.model_type == \"Classification\":\n",
        "                  labels = torch.eye(10)[labels]\n",
        "              else:\n",
        "                  labels = labels.reshape(-1, 1)\n",
        "              labels = labels.to(self.device)\n",
        "              \n",
        "              predictions = self.model(data)\n",
        "              loss_value = self.Loss_Function(predictions, labels)\n",
        "              \n",
        "              \n",
        "              self.optimizer.zero_grad()\n",
        "              loss_value.backward()\n",
        "              self.optimizer.step()\n",
        "              \n",
        "              \n",
        "              # Set the predictions and labels back into integers for accuracy calculation\n",
        "              if self.model_type == \"Classification\":\n",
        "                  predictions = torch.Tensor([torch.argmax(i).item() for i in predictions])\n",
        "                  labels = torch.Tensor([torch.argmax(i).item() for i in labels])\n",
        "              \n",
        "              ##### Calculate Loss and accuracy\n",
        "              loss_sum += loss_value.item()\n",
        "              if self.model_type == \"Classification\":\n",
        "                  acc += MCA(predictions, labels)\n",
        "          \n",
        "          self.Metrics[\"Training_Loss\"].append(loss_sum / len(l_data))\n",
        "          if self.model_type == \"Classification\":\n",
        "              self.Metrics[\"Training_Accuracy\"].append(acc / len(l_data))\n",
        "          \n",
        "        \n",
        "        elif run_type == 'eval':\n",
        "          self.model.eval()\n",
        "          \n",
        "          if self.model_type == \"Classification\":\n",
        "              MCA = self.accuracy(self.classNum)\n",
        "          else:\n",
        "              MCA = self.accuracy\n",
        "              \n",
        "          loss_sum = 0\n",
        "          acc = 0\n",
        "          \n",
        "          for data, labels in l_data:\n",
        "              \n",
        "              data = data.to(self.device)\n",
        "              if self.model_type == \"Classification\":\n",
        "                  labels = torch.eye(10)[labels]\n",
        "              else:\n",
        "                  labels = labels.reshape(-1, 1)\n",
        "              labels = labels.to(self.device)\n",
        "              \n",
        "              with torch.no_grad():\n",
        "                  predictions = self.model(data)\n",
        "              loss_value = self.Loss_Function(predictions, labels)\n",
        "              \n",
        "              if self.model_type == \"Classification\":\n",
        "                  predictions = torch.Tensor([torch.argmax(i).item() for i in predictions])\n",
        "                  labels = torch.Tensor([torch.argmax(i).item() for i in labels])\n",
        "              \n",
        "              loss_sum += loss_value.item()\n",
        "              if self.model_type == \"Classification\":\n",
        "                  acc += MCA(predictions, labels)\n",
        "              \n",
        "          self.Metrics[\"Validation_Loss\"].append(loss_sum / len(l_data))\n",
        "          if self.model_type == \"Classification\":\n",
        "              self.Metrics[\"Validation_Accuracy\"].append(acc / len(l_data))\n",
        "          \n",
        "    \n",
        "    def fit(self, t_data, v_data, EPOCHS):\n",
        "        \n",
        "        \n",
        "        for i in range(EPOCHS):\n",
        "            \n",
        "            self.model_run(v_data,'eval')\n",
        "            self.model_run(t_data,'train')\n",
        "                \n",
        "            print(\"Current Epoch:\", i+1)\n",
        "            print(\"Training_Loss:\", self.Metrics[\"Training_Loss\"][-1], \" | Validation_Loss:\", self.Metrics[\"Validation_Loss\"][-1])\n",
        "            if self.model_type == \"Classification\":\n",
        "                print(\"Training_Accuracy:\", self.Metrics[\"Training_Accuracy\"][-1].item(), \" | Validation_Accuracy:\", self.Metrics[\"Validation_Accuracy\"][-1].item())\n",
        "            \n",
        "    \n",
        "    def Test_Model(self, testLoader):\n",
        "        \n",
        "        self.model.eval()\n",
        "        \n",
        "        if self.model_type == \"Classification\":\n",
        "            confusion = ConfusionMatrix(task=\"multiclass\", num_classes=self.classNum)\n",
        "            MCA = self.accuracy(self.classNum)\n",
        "        else:\n",
        "            MCA = self.accuracy\n",
        "        \n",
        "        predMax = torch.empty(0)\n",
        "        labelMax = torch.empty(0)\n",
        "    \n",
        "        for data, labels in testLoader:\n",
        "\n",
        "            data = data.to(self.device)\n",
        "            if self.model_type == \"Classification\":\n",
        "                labels = torch.eye(10)[labels]\n",
        "            else:\n",
        "                labels = labels.reshape(-1, 1)\n",
        "            labels = labels.to(self.device)\n",
        "\n",
        "            with torch.no_grad():\n",
        "                pred = self.model(data)\n",
        "\n",
        "            if self.model_type == \"Classification\":\n",
        "                pred = torch.Tensor([torch.argmax(i).item() for i in pred])\n",
        "                labels = torch.Tensor([torch.argmax(i).item() for i in labels])\n",
        "\n",
        "            predMax = torch.cat((predMax, pred))\n",
        "            labelMax = torch.cat((labelMax, labels))\n",
        "        \n",
        "        if self.model_type == \"Classification\":\n",
        "            self.ConfMatrix = confusion(predMax, labelMax)\n",
        "            self.Metrics[\"Test_Accuracy\"] = MCA(predMax, labelMax).item()\n",
        "        \n",
        "    \n",
        "    "
      ],
      "metadata": {
        "id": "N7bF2uQLet_n"
      },
      "execution_count": 3,
      "outputs": []
    },
    {
      "cell_type": "code",
      "source": [
        "def init_cnn(module):\n",
        "  if type(module) == nn.Linear or type(module) == nn.Conv2d:\n",
        "        nn.init.xavier_uniform_(module.weight)\n"
      ],
      "metadata": {
        "id": "DlbapMLM5FEv"
      },
      "execution_count": 4,
      "outputs": []
    },
    {
      "cell_type": "code",
      "source": [
        "#@d2l.add_to_class(d2l.Trainer)  \n",
        "def __init__(self, max_epochs, num_gpus=1, gradient_clip_val=0):\n",
        "        self.save_hyperparameters()\n",
        "        self.train_loss = []\n",
        "        self.train_acc = []\n",
        "        self.valid_loss = []\n",
        "        self.valid_acc = []\n",
        "\n",
        "        assert num_gpus == 1,'No GPU support yet'\n",
        "        "
      ],
      "metadata": {
        "id": "K3GMCbkC5S5b"
      },
      "execution_count": 5,
      "outputs": []
    },
    {
      "cell_type": "code",
      "source": [
        "@d2l.add_to_class(d2l.Classifier)  \n",
        "def layer_summary(self, X_shape):\n",
        "    X = torch.randn(*X_shape)\n",
        "    for layer in self.net:\n",
        "        X = layer(X)\n",
        "        print(layer.__class__.__name__, 'output shape:\\t', X.shape)\n",
        "\n"
      ],
      "metadata": {
        "id": "paCqMy6E5UT2"
      },
      "execution_count": 6,
      "outputs": []
    },
    {
      "cell_type": "code",
      "source": [
        "#@d2l.add_to_class(d2l.Module)  \n",
        "def training_step(self, batch):\n",
        "  l = self.loss(self(*batch[:-1]), batch[-1])\n",
        "  self.plot('loss', l, train=True)\n",
        "  self.train_loss.append(l)\n",
        "  return l\n",
        "\n",
        "#@d2l.add_to_class(d2l.Module)  \n",
        "def validation_step(self, batch):\n",
        "  l = self.loss(self(*batch[:-1]), batch[-1])\n",
        "  self.valid_loss.append(l)\n",
        "  self.plot('loss', l, train=False)"
      ],
      "metadata": {
        "id": "cqiJ-bOd5V_d"
      },
      "execution_count": 7,
      "outputs": []
    },
    {
      "cell_type": "code",
      "source": [
        "#@d2l.add_to_class(d2l.Module)  \n",
        "def plot(self, key, value, train):\n",
        "        \"\"\"Plot a point in animation.\"\"\"\n",
        "        assert hasattr(self, 'trainer'), 'Trainer is not inited'\n",
        "        self.board.xlabel = 'epoch'\n",
        "        if train:\n",
        "            x = self.trainer.train_batch_idx / \\\n",
        "                self.trainer.num_train_batches\n",
        "            n = self.trainer.num_train_batches / \\\n",
        "                self.plot_train_per_epoch\n",
        "            metric_type = 'train'\n",
        "        else:\n",
        "            x = self.trainer.epoch + 1\n",
        "            n = self.trainer.num_val_batches / \\\n",
        "                self.plot_valid_per_epoch\n",
        "            metric_type = 'val'\n",
        "        self.board.draw(x, d2l.numpy(d2l.to(value, d2l.cpu())),\n",
        "                        ('train_' if train else 'val_') + key,\n",
        "                        every_n=int(n))\n",
        "        \n",
        "        if not train and self.trainer.epoch % 1 == 0:\n",
        "          train_loss = self.trainer.train_loss[-1]\n",
        "          #train_acc = self.trainer.train_acc[-1]\n",
        "          val_loss = self.trainer.valid_loss[-1]\n",
        "          #val_acc = self.trainer.valid_acc[-1]\n",
        "          print(f\"Epoch [{self.trainer.epoch+1}/{self.trainer.epochs}]: \"\n",
        "                f\"train_loss = {train_loss:.4f}, train_acc = {train_acc:.4f}, \")\n",
        "               # f\"val_loss = {val_loss:.4f}, val_acc = {val_acc:.4f}\")"
      ],
      "metadata": {
        "id": "EcRcAlNE5YLW"
      },
      "execution_count": 8,
      "outputs": []
    },
    {
      "cell_type": "code",
      "source": [
        "#@d2l.add_to_class(d2l.Trainer)  \n",
        "def fit(self, model, data):\n",
        "        self.prepare_data(data)\n",
        "        self.prepare_model(model)\n",
        "        self.optim = model.configure_optimizers()\n",
        "        self.epoch = 0\n",
        "        self.train_batch_idx = 0\n",
        "        self.val_batch_idx = 0\n",
        "        for self.epoch in range(self.max_epochs):\n",
        "            self.fit_epoch()\n",
        "            self.evaluate()"
      ],
      "metadata": {
        "id": "qreZ0fBb5aEY"
      },
      "execution_count": 9,
      "outputs": []
    },
    {
      "cell_type": "code",
      "source": [
        "device_to_use = torch.device(\"cuda\" if torch.cuda.is_available() else \"cpu\")"
      ],
      "metadata": {
        "id": "MNy-szDPfL3S"
      },
      "execution_count": 10,
      "outputs": []
    },
    {
      "cell_type": "markdown",
      "source": [
        "Problem 1:  \n",
        "Part a) BaseLine VGG Model"
      ],
      "metadata": {
        "id": "cUoZLECMhJbM"
      }
    },
    {
      "cell_type": "code",
      "source": [
        "def vgg_block(num_convs, out_channels, stride):\n",
        "    layers = []\n",
        "    for _ in range(num_convs):\n",
        "        layers.append(nn.LazyConv2d(out_channels, kernel_size=3, padding=1))\n",
        "        layers.append(nn.LazyBatchNorm2d())\n",
        "        layers.append(nn.ReLU())\n",
        "\n",
        "    layers.append(nn.MaxPool2d(kernel_size=2, stride=stride))\n",
        "\n",
        "    return nn.Sequential(*layers)"
      ],
      "metadata": {
        "id": "h61SOh9I5fD3"
      },
      "execution_count": 11,
      "outputs": []
    },
    {
      "cell_type": "code",
      "source": [
        "class VGG(nn.Module):\n",
        "    def __init__(self, arch, num_class=10):\n",
        "        super(VGG, self).__init__()\n",
        "        conv_blks = []\n",
        "        \n",
        "        for num_convs, out_channels, stride in arch:\n",
        "            conv_blks.append(vgg_block(num_convs, out_channels, stride))\n",
        "            \n",
        "        self.net = nn.Sequential(\n",
        "            *conv_blks, \n",
        "            \n",
        "            nn.Flatten(),\n",
        "            nn.LazyLinear(4096), \n",
        "            nn.ReLU(),\n",
        "            nn.Dropout(0.5),\n",
        "            \n",
        "            nn.LazyLinear(4096),\n",
        "            nn.ReLU(),\n",
        "            nn.Dropout(0.5),\n",
        "            \n",
        "            nn.LazyLinear(num_class),\n",
        "        )\n",
        "        \n",
        "    def forward(self, x):\n",
        "        return self.net(x)"
      ],
      "metadata": {
        "id": "Bpw0u2d45y3u"
      },
      "execution_count": 12,
      "outputs": []
    },
    {
      "cell_type": "code",
      "source": [
        "arch = [(1, 64, 2), (1, 128, 2), (2, 256, 2), (2, 512, 2), (2, 512, 2)]\n",
        "vgg_baseline_arch = VGG(arch)\n",
        "\n",
        "\n",
        "VGG_baseline_model = Train_Model(vgg_baseline_arch, nn.CrossEntropyLoss(), torch.optim.SGD(vgg_baseline_arch.parameters(), lr=0.001*120, momentum=0.9), MulticlassAccuracy, \"Classification\",  device_to_use, 10)\n",
        "\n",
        "t0 = datetime.now()\n",
        "VGG_baseline_model.fit(trainLoader, validateLoader, 10)\n",
        "t1 = datetime.now()\n",
        "\n",
        "VGG_baseline_model.Test_Model(testLoader)\n",
        "\n",
        "macs, params = get_model_complexity_info(VGG_baseline_model.model, (3, 64, 64), as_strings=True, print_per_layer_stat=False, verbose=True)\n",
        "\n",
        "\n",
        "print(\"Time Taken to Train:\", t1 - t0)\n",
        "print(\"VGG Baseline Model Train Accuracy:\", VGG_baseline_model.Metrics[\"Training_Accuracy\"][-1].item())\n",
        "print(\"VGG Baseline Model Test Accuracy:\", VGG_baseline_model.Metrics[\"Test_Accuracy\"])\n",
        "    \n",
        "VGG_baseline_model.model.to(\"cpu\")\n",
        "print(f\"Macs:{macs} | Params:{params}\")\n",
        "\n",
        "\n",
        "### PLOTTING METRICS\n",
        "plt.plot(VGG_baseline_model.Metrics['Training_Accuracy'], label='Training Accuracy')\n",
        "plt.plot(VGG_baseline_model.Metrics['Validation_Accuracy'], label='Validation Accuracy')\n",
        "plt.plot(VGG_baseline_model.Metrics['Training_Loss'], label='Training Loss')\n",
        "plt.plot(VGG_baseline_model.Metrics['Validation_Loss'], label='Validation Loss')\n",
        "plt.xlabel('Epoch')\n",
        "plt.ylabel('Metric')\n",
        "plt.legend()"
      ],
      "metadata": {
        "colab": {
          "base_uri": "https://localhost:8080/",
          "height": 1000
        },
        "id": "RzpYxEz254bF",
        "outputId": "3f92ade1-10c8-4c1e-9222-a341d7edff52"
      },
      "execution_count": 13,
      "outputs": [
        {
          "output_type": "stream",
          "name": "stderr",
          "text": [
            "/usr/local/lib/python3.9/dist-packages/torch/nn/modules/lazy.py:180: UserWarning: Lazy modules are a new feature under heavy development so changes to the API or functionality can happen at any moment.\n",
            "  warnings.warn('Lazy modules are a new feature under heavy development '\n",
            "100%|██████████| 157/157 [00:34<00:00,  4.57it/s]"
          ]
        },
        {
          "output_type": "stream",
          "name": "stdout",
          "text": [
            "Current Epoch: 1\n",
            "Training_Loss: 1.7130343610314047  | Validation_Loss: 2.3025812327861788\n",
            "Training_Accuracy: 0.36791566014289856  | Validation_Accuracy: 0.09999995678663254\n"
          ]
        },
        {
          "output_type": "stream",
          "name": "stderr",
          "text": [
            "\n",
            "100%|██████████| 157/157 [00:33<00:00,  4.63it/s]"
          ]
        },
        {
          "output_type": "stream",
          "name": "stdout",
          "text": [
            "Current Epoch: 2\n",
            "Training_Loss: 1.377897314964586  | Validation_Loss: 1.5861882716417313\n",
            "Training_Accuracy: 0.5023663640022278  | Validation_Accuracy: 0.4109349846839905\n"
          ]
        },
        {
          "output_type": "stream",
          "name": "stderr",
          "text": [
            "\n",
            "100%|██████████| 157/157 [00:34<00:00,  4.54it/s]"
          ]
        },
        {
          "output_type": "stream",
          "name": "stdout",
          "text": [
            "Current Epoch: 3\n",
            "Training_Loss: 1.1583374655170806  | Validation_Loss: 1.6435048699378967\n",
            "Training_Accuracy: 0.5900500416755676  | Validation_Accuracy: 0.4360102713108063\n"
          ]
        },
        {
          "output_type": "stream",
          "name": "stderr",
          "text": [
            "\n",
            "100%|██████████| 157/157 [00:34<00:00,  4.54it/s]"
          ]
        },
        {
          "output_type": "stream",
          "name": "stdout",
          "text": [
            "Current Epoch: 4\n",
            "Training_Loss: 0.9467963933185407  | Validation_Loss: 1.147178004682064\n",
            "Training_Accuracy: 0.6744588613510132  | Validation_Accuracy: 0.6158866882324219\n"
          ]
        },
        {
          "output_type": "stream",
          "name": "stderr",
          "text": [
            "\n",
            "100%|██████████| 157/157 [00:34<00:00,  4.58it/s]"
          ]
        },
        {
          "output_type": "stream",
          "name": "stdout",
          "text": [
            "Current Epoch: 5\n",
            "Training_Loss: 0.7605591739059254  | Validation_Loss: 0.9711459562182426\n",
            "Training_Accuracy: 0.7436625957489014  | Validation_Accuracy: 0.6689659357070923\n"
          ]
        },
        {
          "output_type": "stream",
          "name": "stderr",
          "text": [
            "\n",
            "100%|██████████| 157/157 [00:34<00:00,  4.60it/s]"
          ]
        },
        {
          "output_type": "stream",
          "name": "stdout",
          "text": [
            "Current Epoch: 6\n",
            "Training_Loss: 0.6257060857335474  | Validation_Loss: 1.066545444726944\n",
            "Training_Accuracy: 0.7950770854949951  | Validation_Accuracy: 0.6474282145500183\n"
          ]
        },
        {
          "output_type": "stream",
          "name": "stderr",
          "text": [
            "\n",
            "100%|██████████| 157/157 [00:34<00:00,  4.58it/s]"
          ]
        },
        {
          "output_type": "stream",
          "name": "stdout",
          "text": [
            "Current Epoch: 7\n",
            "Training_Loss: 0.5244184563494032  | Validation_Loss: 0.815202233940363\n",
            "Training_Accuracy: 0.8279990553855896  | Validation_Accuracy: 0.7238074541091919\n"
          ]
        },
        {
          "output_type": "stream",
          "name": "stderr",
          "text": [
            "\n",
            "100%|██████████| 157/157 [00:35<00:00,  4.47it/s]"
          ]
        },
        {
          "output_type": "stream",
          "name": "stdout",
          "text": [
            "Current Epoch: 8\n",
            "Training_Loss: 0.4410933559867227  | Validation_Loss: 0.7510030388832092\n",
            "Training_Accuracy: 0.8539358973503113  | Validation_Accuracy: 0.7489427328109741\n"
          ]
        },
        {
          "output_type": "stream",
          "name": "stderr",
          "text": [
            "\n",
            "100%|██████████| 157/157 [00:34<00:00,  4.58it/s]"
          ]
        },
        {
          "output_type": "stream",
          "name": "stdout",
          "text": [
            "Current Epoch: 9\n",
            "Training_Loss: 0.3612378294680529  | Validation_Loss: 0.963985151052475\n",
            "Training_Accuracy: 0.8810418248176575  | Validation_Accuracy: 0.7214068174362183\n"
          ]
        },
        {
          "output_type": "stream",
          "name": "stderr",
          "text": [
            "\n",
            "100%|██████████| 157/157 [00:34<00:00,  4.58it/s]"
          ]
        },
        {
          "output_type": "stream",
          "name": "stdout",
          "text": [
            "Current Epoch: 10\n",
            "Training_Loss: 0.31265028684761875  | Validation_Loss: 0.9495124578475952\n",
            "Training_Accuracy: 0.8976224660873413  | Validation_Accuracy: 0.7243995070457458\n"
          ]
        },
        {
          "output_type": "stream",
          "name": "stderr",
          "text": [
            "\n"
          ]
        },
        {
          "output_type": "stream",
          "name": "stdout",
          "text": [
            "Warning: module Flatten is treated as a zero-op.\n",
            "Warning: module Dropout is treated as a zero-op.\n",
            "Warning: module VGG is treated as a zero-op.\n",
            "Time Taken to Train: 0:06:51.667923\n",
            "VGG Baseline Model Train Accuracy: 0.8976224660873413\n",
            "VGG Baseline Model Test Accuracy: 0.7573999762535095\n",
            "Macs:639.21 MMac | Params:34.44 M\n"
          ]
        },
        {
          "output_type": "execute_result",
          "data": {
            "text/plain": [
              "<matplotlib.legend.Legend at 0x7f3700973ee0>"
            ]
          },
          "metadata": {},
          "execution_count": 13
        },
        {
          "output_type": "display_data",
          "data": {
            "text/plain": [
              "<Figure size 432x288 with 1 Axes>"
            ],
            "image/png": "[encoded data removed]"
          },
          "metadata": {
            "needs_background": "light"
          }
        }
      ]
    },
    {
      "cell_type": "markdown",
      "source": [
        "Part b) \n",
        "\n",
        "\n",
        "Build VGG-16 Model"
      ],
      "metadata": {
        "id": "20lZEgrGhQcX"
      }
    },
    {
      "cell_type": "code",
      "source": [
        "arch_16 = [(2, 64, 2), (2, 128, 2), (3, 256, 2), (3, 512, 2), (3, 512, 2)]\n",
        "vgg_16_arch = VGG(arch_16)\n",
        "\n",
        "\n",
        "VGG_16_model = Train_Model(vgg_16_arch, nn.CrossEntropyLoss(), torch.optim.SGD(vgg_16_arch.parameters(), lr=0.001*90, momentum=0.9), MulticlassAccuracy, \"Classification\",  device_to_use, 10)\n",
        "\n",
        "t0 = datetime.now()\n",
        "VGG_16_model.fit(trainLoader, validateLoader, 10)\n",
        "t1 = datetime.now()\n",
        "\n",
        "VGG_16_model.Test_Model(testLoader)\n",
        "\n",
        "macs, params = get_model_complexity_info(VGG_16_model.model, (3, 64, 64), as_strings=True, print_per_layer_stat=False, verbose=True)\n",
        "\n",
        "\n",
        "print(\"Time Taken to Train:\", t1 - t0)\n",
        "print(\"VGG-16 Model Train Accuracy:\", VGG_16_model.Metrics[\"Training_Accuracy\"][-1].item())\n",
        "print(\"VGG-16 Model Test Accuracy:\", VGG_16_model.Metrics[\"Test_Accuracy\"])\n",
        "\n",
        "    \n",
        "VGG_16_model.model.to(\"cpu\")\n",
        "print(f\"Macs:{macs} | Params:{params}\")\n",
        "\n",
        "\n",
        "### PLOTTING METRICS\n",
        "plt.plot(VGG_16_model.Metrics['Training_Accuracy'], label='Training Accuracy')\n",
        "plt.plot(VGG_16_model.Metrics['Validation_Accuracy'], label='Validation Accuracy')\n",
        "plt.plot(VGG_16_model.Metrics['Training_Loss'], label='Training Loss')\n",
        "plt.plot(VGG_16_model.Metrics['Validation_Loss'], label='Validation Loss')\n",
        "plt.xlabel('Epoch')\n",
        "plt.ylabel('Metric')\n",
        "plt.legend()"
      ],
      "metadata": {
        "id": "U9xcJw9WaCD4",
        "colab": {
          "base_uri": "https://localhost:8080/",
          "height": 1000
        },
        "outputId": "e94bcb1e-7273-4904-bb7d-a82b46220e9f"
      },
      "execution_count": 14,
      "outputs": [
        {
          "output_type": "stream",
          "name": "stderr",
          "text": [
            "100%|██████████| 157/157 [00:59<00:00,  2.64it/s]"
          ]
        },
        {
          "output_type": "stream",
          "name": "stdout",
          "text": [
            "Current Epoch: 1\n",
            "Training_Loss: 1.98881136080262  | Validation_Loss: 2.3026345551013945\n",
            "Training_Accuracy: 0.22571179270744324  | Validation_Accuracy: 0.09749995917081833\n"
          ]
        },
        {
          "output_type": "stream",
          "name": "stderr",
          "text": [
            "\n",
            "100%|██████████| 157/157 [00:59<00:00,  2.65it/s]"
          ]
        },
        {
          "output_type": "stream",
          "name": "stdout",
          "text": [
            "Current Epoch: 2\n",
            "Training_Loss: 1.633979301543752  | Validation_Loss: 1.8679631322622299\n",
            "Training_Accuracy: 0.37843966484069824  | Validation_Accuracy: 0.2675599455833435\n"
          ]
        },
        {
          "output_type": "stream",
          "name": "stderr",
          "text": [
            "\n",
            "100%|██████████| 157/157 [01:00<00:00,  2.60it/s]\n"
          ]
        },
        {
          "output_type": "stream",
          "name": "stdout",
          "text": [
            "Current Epoch: 3\n",
            "Training_Loss: 1.3199783092851092  | Validation_Loss: 1.762951534986496\n",
            "Training_Accuracy: 0.5187881588935852  | Validation_Accuracy: 0.35180380940437317\n"
          ]
        },
        {
          "output_type": "stream",
          "name": "stderr",
          "text": [
            "100%|██████████| 157/157 [01:01<00:00,  2.57it/s]"
          ]
        },
        {
          "output_type": "stream",
          "name": "stdout",
          "text": [
            "Current Epoch: 4\n",
            "Training_Loss: 1.046694423742355  | Validation_Loss: 1.306266376376152\n",
            "Training_Accuracy: 0.6346768140792847  | Validation_Accuracy: 0.5213571190834045\n"
          ]
        },
        {
          "output_type": "stream",
          "name": "stderr",
          "text": [
            "\n",
            "100%|██████████| 157/157 [00:59<00:00,  2.65it/s]"
          ]
        },
        {
          "output_type": "stream",
          "name": "stdout",
          "text": [
            "Current Epoch: 5\n",
            "Training_Loss: 0.8482123286860763  | Validation_Loss: 1.321761965751648\n",
            "Training_Accuracy: 0.7124564051628113  | Validation_Accuracy: 0.5575709342956543\n"
          ]
        },
        {
          "output_type": "stream",
          "name": "stderr",
          "text": [
            "\n",
            "100%|██████████| 157/157 [00:59<00:00,  2.64it/s]"
          ]
        },
        {
          "output_type": "stream",
          "name": "stdout",
          "text": [
            "Current Epoch: 6\n",
            "Training_Loss: 0.6892725073607864  | Validation_Loss: 1.3756370753049851\n",
            "Training_Accuracy: 0.7713412642478943  | Validation_Accuracy: 0.5888323187828064\n"
          ]
        },
        {
          "output_type": "stream",
          "name": "stderr",
          "text": [
            "\n",
            "100%|██████████| 157/157 [00:58<00:00,  2.66it/s]"
          ]
        },
        {
          "output_type": "stream",
          "name": "stdout",
          "text": [
            "Current Epoch: 7\n",
            "Training_Loss: 0.5739127407028417  | Validation_Loss: 0.9215824797749519\n",
            "Training_Accuracy: 0.810810387134552  | Validation_Accuracy: 0.6885113716125488\n"
          ]
        },
        {
          "output_type": "stream",
          "name": "stderr",
          "text": [
            "\n",
            "100%|██████████| 157/157 [00:59<00:00,  2.65it/s]"
          ]
        },
        {
          "output_type": "stream",
          "name": "stdout",
          "text": [
            "Current Epoch: 8\n",
            "Training_Loss: 0.493890069472562  | Validation_Loss: 0.746697661280632\n",
            "Training_Accuracy: 0.8370230197906494  | Validation_Accuracy: 0.7478337287902832\n"
          ]
        },
        {
          "output_type": "stream",
          "name": "stderr",
          "text": [
            "\n",
            "100%|██████████| 157/157 [00:59<00:00,  2.64it/s]"
          ]
        },
        {
          "output_type": "stream",
          "name": "stdout",
          "text": [
            "Current Epoch: 9\n",
            "Training_Loss: 0.4297104830954485  | Validation_Loss: 0.6387138053774833\n",
            "Training_Accuracy: 0.861245334148407  | Validation_Accuracy: 0.7910525798797607\n"
          ]
        },
        {
          "output_type": "stream",
          "name": "stderr",
          "text": [
            "\n",
            "100%|██████████| 157/157 [00:59<00:00,  2.64it/s]"
          ]
        },
        {
          "output_type": "stream",
          "name": "stdout",
          "text": [
            "Current Epoch: 10\n",
            "Training_Loss: 0.3660578178182529  | Validation_Loss: 0.7699073776602745\n",
            "Training_Accuracy: 0.8794954419136047  | Validation_Accuracy: 0.7586781978607178\n"
          ]
        },
        {
          "output_type": "stream",
          "name": "stderr",
          "text": [
            "\n"
          ]
        },
        {
          "output_type": "stream",
          "name": "stdout",
          "text": [
            "Warning: module Flatten is treated as a zero-op.\n",
            "Warning: module Dropout is treated as a zero-op.\n",
            "Warning: module VGG is treated as a zero-op.\n",
            "Time Taken to Train: 0:10:57.468966\n",
            "VGG-16 Model Train Accuracy: 0.8794954419136047\n",
            "VGG-16 Model Test Accuracy: 0.7908999919891357\n",
            "Macs:1.28 GMac | Params:39.94 M\n"
          ]
        },
        {
          "output_type": "execute_result",
          "data": {
            "text/plain": [
              "<matplotlib.legend.Legend at 0x7f36d7fc3f70>"
            ]
          },
          "metadata": {},
          "execution_count": 14
        },
        {
          "output_type": "display_data",
          "data": {
            "text/plain": [
              "<Figure size 432x288 with 1 Axes>"
            ],
            "image/png": "[encoded data removed]"
          },
          "metadata": {
            "needs_background": "light"
          }
        }
      ]
    },
    {
      "cell_type": "markdown",
      "source": [
        "### Results --  Model Comparison\n",
        "#### VGG Baseline Model\n",
        "\n",
        "---\n",
        "\n",
        "\n",
        "\n",
        "Time Taken to Train: 0:06:51.667923  \n",
        "VGG Baseline Model Train Accuracy: 0.8976224660873413  \n",
        "VGG Baseline Model Test Accuracy: 0.7573999762535095  \n",
        "Macs:639.21 MMac | Params:34.44 M\n",
        "\n",
        "#### VGG-16\n",
        "\n",
        "---\n",
        "\n",
        "\n",
        "    \n",
        "Time Taken to Train: 0:10:57.468966  \n",
        "VGG-16 Model Train Accuracy: 0.8794954419136047  \n",
        "VGG-16 Model Test Accuracy: 0.7908999919891357  \n",
        "Macs:1.28 GMac | Params:39.94 M"
      ],
      "metadata": {
        "id": "XGgJQTup7oMM"
      }
    },
    {
      "cell_type": "markdown",
      "source": [
        "Problem 2:\n",
        "\n",
        "part a) Baseline GoogleNet"
      ],
      "metadata": {
        "id": "NahNSbpvlhLj"
      }
    },
    {
      "cell_type": "code",
      "source": [
        "class Inception_block(nn.Module):\n",
        "  def __init__(self, c1, c2, c3, c4, use_bn=False):\n",
        "      super(Inception_block, self).__init__()\n",
        "      \n",
        "      self.b1_1 = nn.LazyConv2d(c1, kernel_size=1)\n",
        "      \n",
        "      self.b2_1 = nn.LazyConv2d(c2[0], kernel_size=1)\n",
        "      self.b2_2 = nn.LazyConv2d(c2[1], kernel_size=3,padding=1)\n",
        "\n",
        "      self.b3_1 = nn.LazyConv2d(c3[0], kernel_size=1)\n",
        "      self.b3_2 = nn.LazyConv2d(c3[1], kernel_size=5,padding=2)\n",
        "\n",
        "      self.b4_1 = nn.MaxPool2d(padding=1,stride=1, kernel_size=3)\n",
        "      self.b4_2 = nn.LazyConv2d(c4, kernel_size=1)\n",
        "\n",
        "      \n",
        "      \n",
        "\n",
        "  def forward(self, x):\n",
        "      b1 = F.relu(self.b1_1(x))\n",
        "      b2 = F.relu(self.b2_2(F.relu(self.b2_1(x))))\n",
        "      b3 = F.relu(self.b3_2(F.relu(self.b3_1(x))))\n",
        "      b4 = F.relu(self.b4_2(self.b4_1(x)))\n",
        "      return torch.cat([b1,b2,b3,b4], 1)"
      ],
      "metadata": {
        "id": "ACaZtt9YlgXe"
      },
      "execution_count": 15,
      "outputs": []
    },
    {
      "cell_type": "code",
      "source": [
        "class GoogleNet(nn.Module):\n",
        "  def b1(self):\n",
        "    return nn.Sequential(\n",
        "        nn.LazyConv2d(64, kernel_size=7, stride=2, padding=3),\n",
        "        nn.ReLU(), nn.MaxPool2d(kernel_size=3, stride=2, padding=1))\n",
        "\n",
        "  def b2(self):\n",
        "    return nn.Sequential(\n",
        "        nn.LazyConv2d(64, kernel_size=1), nn.ReLU(),\n",
        "        nn.LazyConv2d(192, kernel_size=3, padding=1), nn.ReLU(),\n",
        "        nn.MaxPool2d(kernel_size=3, stride=2, padding=1))\n",
        "\n",
        "\n",
        "\n",
        "  def b3(self):\n",
        "    return nn.Sequential(Inception_block(64, (96, 128), (16, 32), 32),\n",
        "                        Inception_block(128, (128, 192), (32, 96), 64),\n",
        "                        nn.MaxPool2d(kernel_size=3, stride=2, padding=1))\n",
        "        \n",
        "  def b4(self):\n",
        "    return nn.Sequential(Inception_block(192, (96, 208), (16, 48), 64),\n",
        "                        Inception_block(160, (112, 224), (24, 64), 64),\n",
        "                        Inception_block(128, (128, 256), (24, 64), 64),\n",
        "                        Inception_block(112, (144, 288), (32, 64), 64),\n",
        "                        Inception_block(256, (160, 320), (32, 128), 128),\n",
        "                        nn.MaxPool2d(kernel_size=3, stride=2, padding=1))\n",
        "    \n",
        "  def b5(self):\n",
        "    return nn.Sequential(Inception_block(256, (160, 320), (32, 128), 128),\n",
        "                  Inception_block(384, (192, 384), (48, 128), 128),\n",
        "                  nn.AdaptiveAvgPool2d((1,1)), nn.Flatten())\n",
        "    \n",
        "  def __init__(self, use_bn=False):\n",
        "      super(GoogleNet, self).__init__()\n",
        "      self.use_bn = use_bn\n",
        "      self.net = nn.Sequential(self.b1(), self.b2(), self.b3(), self.b4(),\n",
        "                            self.b5(), nn.LazyLinear(10))\n",
        "      \n",
        "  \n",
        "      \n",
        "  \n",
        "  def forward(self, x):\n",
        "      return self.net(x)\n",
        "      "
      ],
      "metadata": {
        "id": "oLlRsJWs-tlJ"
      },
      "execution_count": 16,
      "outputs": []
    },
    {
      "cell_type": "code",
      "source": [
        "gNet_arch = GoogleNet()\n",
        "GoogleNet_Model = Train_Model(gNet_arch, nn.CrossEntropyLoss(), torch.optim.SGD(gNet_arch.parameters(), lr=0.1, momentum=0.9), MulticlassAccuracy, \"Classification\",  device_to_use, 10)\n",
        "\n",
        "t0 = datetime.now()\n",
        "GoogleNet_Model.fit(trainLoader, validateLoader, 10)\n",
        "t1 = datetime.now()\n",
        "\n",
        "GoogleNet_Model.Test_Model(testLoader)\n",
        "\n",
        "macs, params = get_model_complexity_info(GoogleNet_Model.model, (3, 64, 64), as_strings=True, print_per_layer_stat=False, verbose=True)\n",
        "\n",
        "\n",
        "print(\"Time Taken to Train:\", t1 - t0)\n",
        "print(\"GoogleNet Model Train Accuracy:\", GoogleNet_Model.Metrics[\"Training_Accuracy\"][-1].item())\n",
        "print(\"GoogleNet Model Test Accuracy:\", GoogleNet_Model.Metrics[\"Test_Accuracy\"])\n",
        "\n",
        "    \n",
        "GoogleNet_Model.model.to(\"cpu\")\n",
        "print(f\"Macs:{macs} | Params:{params}\")\n",
        "\n",
        "\n",
        "### PLOTTING METRICS\n",
        "plt.plot(GoogleNet_Model.Metrics['Training_Accuracy'], label='Training Accuracy')\n",
        "plt.plot(GoogleNet_Model.Metrics['Validation_Accuracy'], label='Validation Accuracy')\n",
        "plt.plot(GoogleNet_Model.Metrics['Training_Loss'], label='Training Loss')\n",
        "plt.plot(GoogleNet_Model.Metrics['Validation_Loss'], label='Validation Loss')\n",
        "plt.xlabel('Epoch')\n",
        "plt.ylabel('Metric')\n",
        "plt.legend()"
      ],
      "metadata": {
        "colab": {
          "base_uri": "https://localhost:8080/",
          "height": 1000
        },
        "id": "Fips44ZI1pQY",
        "outputId": "c554e821-fca0-4fac-ca63-56872ee89662"
      },
      "execution_count": 20,
      "outputs": [
        {
          "output_type": "stream",
          "name": "stderr",
          "text": [
            "100%|██████████| 157/157 [00:37<00:00,  4.19it/s]"
          ]
        },
        {
          "output_type": "stream",
          "name": "stdout",
          "text": [
            "Current Epoch: 1\n",
            "Training_Loss: 2.303522459260977  | Validation_Loss: 2.303099584579468\n",
            "Training_Accuracy: 0.10063952952623367  | Validation_Accuracy: 0.09999995678663254\n"
          ]
        },
        {
          "output_type": "stream",
          "name": "stderr",
          "text": [
            "\n",
            "100%|██████████| 157/157 [00:39<00:00,  3.96it/s]"
          ]
        },
        {
          "output_type": "stream",
          "name": "stdout",
          "text": [
            "Current Epoch: 2\n",
            "Training_Loss: 2.2633963010873006  | Validation_Loss: 2.3028821885585784\n",
            "Training_Accuracy: 0.12408294528722763  | Validation_Accuracy: 0.09999995678663254\n"
          ]
        },
        {
          "output_type": "stream",
          "name": "stderr",
          "text": [
            "\n",
            "100%|██████████| 157/157 [00:38<00:00,  4.06it/s]"
          ]
        },
        {
          "output_type": "stream",
          "name": "stdout",
          "text": [
            "Current Epoch: 3\n",
            "Training_Loss: 2.133713237798897  | Validation_Loss: 2.093826252222061\n",
            "Training_Accuracy: 0.1694355309009552  | Validation_Accuracy: 0.19918307662010193\n"
          ]
        },
        {
          "output_type": "stream",
          "name": "stderr",
          "text": [
            "\n",
            "100%|██████████| 157/157 [00:38<00:00,  4.05it/s]"
          ]
        },
        {
          "output_type": "stream",
          "name": "stdout",
          "text": [
            "Current Epoch: 4\n",
            "Training_Loss: 2.061371665851326  | Validation_Loss: 1.9858199864625932\n",
            "Training_Accuracy: 0.1934715360403061  | Validation_Accuracy: 0.2232588231563568\n"
          ]
        },
        {
          "output_type": "stream",
          "name": "stderr",
          "text": [
            "\n",
            "100%|██████████| 157/157 [00:39<00:00,  3.97it/s]"
          ]
        },
        {
          "output_type": "stream",
          "name": "stdout",
          "text": [
            "Current Epoch: 5\n",
            "Training_Loss: 1.9910011580035945  | Validation_Loss: 1.8917727023363113\n",
            "Training_Accuracy: 0.22473792731761932  | Validation_Accuracy: 0.271103173494339\n"
          ]
        },
        {
          "output_type": "stream",
          "name": "stderr",
          "text": [
            "\n",
            "100%|██████████| 157/157 [00:40<00:00,  3.84it/s]"
          ]
        },
        {
          "output_type": "stream",
          "name": "stdout",
          "text": [
            "Current Epoch: 6\n",
            "Training_Loss: 1.9396199284085802  | Validation_Loss: 1.7412960261106492\n",
            "Training_Accuracy: 0.24621032178401947  | Validation_Accuracy: 0.3500802218914032\n"
          ]
        },
        {
          "output_type": "stream",
          "name": "stderr",
          "text": [
            "\n",
            "100%|██████████| 157/157 [00:38<00:00,  4.03it/s]"
          ]
        },
        {
          "output_type": "stream",
          "name": "stdout",
          "text": [
            "Current Epoch: 7\n",
            "Training_Loss: 1.8831215876682548  | Validation_Loss: 1.714194867014885\n",
            "Training_Accuracy: 0.2725353240966797  | Validation_Accuracy: 0.35194048285484314\n"
          ]
        },
        {
          "output_type": "stream",
          "name": "stderr",
          "text": [
            "\n",
            "100%|██████████| 157/157 [00:39<00:00,  3.96it/s]"
          ]
        },
        {
          "output_type": "stream",
          "name": "stdout",
          "text": [
            "Current Epoch: 8\n",
            "Training_Loss: 1.8373695611953735  | Validation_Loss: 1.6184053659439086\n",
            "Training_Accuracy: 0.2919488847255707  | Validation_Accuracy: 0.41310301423072815\n"
          ]
        },
        {
          "output_type": "stream",
          "name": "stderr",
          "text": [
            "\n",
            "100%|██████████| 157/157 [00:39<00:00,  3.97it/s]"
          ]
        },
        {
          "output_type": "stream",
          "name": "stdout",
          "text": [
            "Current Epoch: 9\n",
            "Training_Loss: 1.7750520303750494  | Validation_Loss: 1.5950415849685669\n",
            "Training_Accuracy: 0.31842735409736633  | Validation_Accuracy: 0.42498940229415894\n"
          ]
        },
        {
          "output_type": "stream",
          "name": "stderr",
          "text": [
            "\n",
            "100%|██████████| 157/157 [00:38<00:00,  4.06it/s]"
          ]
        },
        {
          "output_type": "stream",
          "name": "stdout",
          "text": [
            "Current Epoch: 10\n",
            "Training_Loss: 1.738339441597082  | Validation_Loss: 1.4201813817024231\n",
            "Training_Accuracy: 0.33688339591026306  | Validation_Accuracy: 0.4822447896003723\n"
          ]
        },
        {
          "output_type": "stream",
          "name": "stderr",
          "text": [
            "\n"
          ]
        },
        {
          "output_type": "stream",
          "name": "stdout",
          "text": [
            "Warning: variables __flops__ or __params__ are already defined for the moduleConv2d ptflops can affect your code!\n",
            "Warning: variables __flops__ or __params__ are already defined for the moduleReLU ptflops can affect your code!\n",
            "Warning: variables __flops__ or __params__ are already defined for the moduleMaxPool2d ptflops can affect your code!\n",
            "Warning: variables __flops__ or __params__ are already defined for the moduleConv2d ptflops can affect your code!\n",
            "Warning: variables __flops__ or __params__ are already defined for the moduleReLU ptflops can affect your code!\n",
            "Warning: variables __flops__ or __params__ are already defined for the moduleConv2d ptflops can affect your code!\n",
            "Warning: variables __flops__ or __params__ are already defined for the moduleReLU ptflops can affect your code!\n",
            "Warning: variables __flops__ or __params__ are already defined for the moduleMaxPool2d ptflops can affect your code!\n",
            "Warning: variables __flops__ or __params__ are already defined for the moduleConv2d ptflops can affect your code!\n",
            "Warning: variables __flops__ or __params__ are already defined for the moduleReLU ptflops can affect your code!\n",
            "Warning: variables __flops__ or __params__ are already defined for the moduleConv2d ptflops can affect your code!\n",
            "Warning: variables __flops__ or __params__ are already defined for the moduleReLU ptflops can affect your code!\n",
            "Warning: variables __flops__ or __params__ are already defined for the moduleConv2d ptflops can affect your code!\n",
            "Warning: variables __flops__ or __params__ are already defined for the moduleReLU ptflops can affect your code!\n",
            "Warning: variables __flops__ or __params__ are already defined for the moduleConv2d ptflops can affect your code!\n",
            "Warning: variables __flops__ or __params__ are already defined for the moduleReLU ptflops can affect your code!\n",
            "Warning: variables __flops__ or __params__ are already defined for the moduleConv2d ptflops can affect your code!\n",
            "Warning: variables __flops__ or __params__ are already defined for the moduleReLU ptflops can affect your code!\n",
            "Warning: variables __flops__ or __params__ are already defined for the moduleMaxPool2d ptflops can affect your code!\n",
            "Warning: variables __flops__ or __params__ are already defined for the moduleConv2d ptflops can affect your code!\n",
            "Warning: variables __flops__ or __params__ are already defined for the moduleReLU ptflops can affect your code!\n",
            "Warning: variables __flops__ or __params__ are already defined for the moduleConv2d ptflops can affect your code!\n",
            "Warning: variables __flops__ or __params__ are already defined for the moduleReLU ptflops can affect your code!\n",
            "Warning: variables __flops__ or __params__ are already defined for the moduleConv2d ptflops can affect your code!\n",
            "Warning: variables __flops__ or __params__ are already defined for the moduleReLU ptflops can affect your code!\n",
            "Warning: variables __flops__ or __params__ are already defined for the moduleConv2d ptflops can affect your code!\n",
            "Warning: variables __flops__ or __params__ are already defined for the moduleReLU ptflops can affect your code!\n",
            "Warning: variables __flops__ or __params__ are already defined for the moduleConv2d ptflops can affect your code!\n",
            "Warning: variables __flops__ or __params__ are already defined for the moduleReLU ptflops can affect your code!\n",
            "Warning: variables __flops__ or __params__ are already defined for the moduleConv2d ptflops can affect your code!\n",
            "Warning: variables __flops__ or __params__ are already defined for the moduleReLU ptflops can affect your code!\n",
            "Warning: variables __flops__ or __params__ are already defined for the moduleMaxPool2d ptflops can affect your code!\n",
            "Warning: variables __flops__ or __params__ are already defined for the moduleConv2d ptflops can affect your code!\n",
            "Warning: variables __flops__ or __params__ are already defined for the moduleReLU ptflops can affect your code!\n",
            "Warning: variables __flops__ or __params__ are already defined for the moduleMaxPool2d ptflops can affect your code!\n",
            "Warning: variables __flops__ or __params__ are already defined for the moduleConv2d ptflops can affect your code!\n",
            "Warning: variables __flops__ or __params__ are already defined for the moduleReLU ptflops can affect your code!\n",
            "Warning: variables __flops__ or __params__ are already defined for the moduleConv2d ptflops can affect your code!\n",
            "Warning: variables __flops__ or __params__ are already defined for the moduleReLU ptflops can affect your code!\n",
            "Warning: variables __flops__ or __params__ are already defined for the moduleConv2d ptflops can affect your code!\n",
            "Warning: variables __flops__ or __params__ are already defined for the moduleReLU ptflops can affect your code!\n",
            "Warning: variables __flops__ or __params__ are already defined for the moduleConv2d ptflops can affect your code!\n",
            "Warning: variables __flops__ or __params__ are already defined for the moduleReLU ptflops can affect your code!\n",
            "Warning: variables __flops__ or __params__ are already defined for the moduleConv2d ptflops can affect your code!\n",
            "Warning: variables __flops__ or __params__ are already defined for the moduleReLU ptflops can affect your code!\n",
            "Warning: variables __flops__ or __params__ are already defined for the moduleMaxPool2d ptflops can affect your code!\n",
            "Warning: variables __flops__ or __params__ are already defined for the moduleConv2d ptflops can affect your code!\n",
            "Warning: variables __flops__ or __params__ are already defined for the moduleReLU ptflops can affect your code!\n",
            "Warning: variables __flops__ or __params__ are already defined for the moduleConv2d ptflops can affect your code!\n",
            "Warning: variables __flops__ or __params__ are already defined for the moduleReLU ptflops can affect your code!\n",
            "Warning: variables __flops__ or __params__ are already defined for the moduleConv2d ptflops can affect your code!\n",
            "Warning: variables __flops__ or __params__ are already defined for the moduleReLU ptflops can affect your code!\n",
            "Warning: variables __flops__ or __params__ are already defined for the moduleConv2d ptflops can affect your code!\n",
            "Warning: variables __flops__ or __params__ are already defined for the moduleReLU ptflops can affect your code!\n",
            "Warning: variables __flops__ or __params__ are already defined for the moduleConv2d ptflops can affect your code!\n",
            "Warning: variables __flops__ or __params__ are already defined for the moduleReLU ptflops can affect your code!\n",
            "Warning: variables __flops__ or __params__ are already defined for the moduleConv2d ptflops can affect your code!\n",
            "Warning: variables __flops__ or __params__ are already defined for the moduleReLU ptflops can affect your code!\n",
            "Warning: variables __flops__ or __params__ are already defined for the moduleMaxPool2d ptflops can affect your code!\n",
            "Warning: variables __flops__ or __params__ are already defined for the moduleConv2d ptflops can affect your code!\n",
            "Warning: variables __flops__ or __params__ are already defined for the moduleReLU ptflops can affect your code!\n",
            "Warning: variables __flops__ or __params__ are already defined for the moduleAdaptiveAvgPool2d ptflops can affect your code!\n",
            "Warning: variables __flops__ or __params__ are already defined for the moduleLinear ptflops can affect your code!\n",
            "Warning: variables __flops__ or __params__ are already defined for the moduleReLU ptflops can affect your code!\n",
            "Warning: variables __flops__ or __params__ are already defined for the moduleLinear ptflops can affect your code!\n",
            "Warning: module Identity is treated as a zero-op.\n",
            "Warning: module Inception is treated as a zero-op.\n",
            "Warning: module Flatten is treated as a zero-op.\n",
            "Warning: module Dropout1d is treated as a zero-op.\n",
            "Warning: module GoogLeNet is treated as a zero-op.\n",
            "Time Taken to Train: 0:07:31.100964\n",
            "GoogleNet Model Train Accuracy: 0.33688339591026306\n",
            "GoogleNet Model Test Accuracy: 0.5223000049591064\n",
            "Macs:660.48 MMac | Params:2.77 M\n"
          ]
        },
        {
          "output_type": "execute_result",
          "data": {
            "text/plain": [
              "<matplotlib.legend.Legend at 0x7f36d7d14220>"
            ]
          },
          "metadata": {},
          "execution_count": 20
        },
        {
          "output_type": "display_data",
          "data": {
            "text/plain": [
              "<Figure size 432x288 with 1 Axes>"
            ],
            "image/png": "[encoded data removed]"
          },
          "metadata": {
            "needs_background": "light"
          }
        }
      ]
    },
    {
      "cell_type": "markdown",
      "source": [
        "Part b) Add Batch Normalization"
      ],
      "metadata": {
        "id": "962YYFZy6O6R"
      }
    },
    {
      "cell_type": "code",
      "source": [
        "gNet_bn_arch = GoogleNet(use_bn=True)\n",
        "GoogleNet_norm_Model = Train_Model(gNet_bn_arch, nn.CrossEntropyLoss(), torch.optim.SGD(gNet_bn_arch.parameters(), lr=0.1, momentum=0.9), MulticlassAccuracy, \"Classification\",  device_to_use, 10)\n",
        "\n",
        "t0 = datetime.now()\n",
        "GoogleNet_norm_Model.fit(trainLoader, validateLoader, 10)\n",
        "t1 = datetime.now()\n",
        "\n",
        "GoogleNet_norm_Model.Test_Model(testLoader)\n",
        "\n",
        "macs, params = get_model_complexity_info(GoogleNet_norm_Model.model, (3, 64, 64), as_strings=True, print_per_layer_stat=False, verbose=True)\n",
        "\n",
        "\n",
        "print(\"Time Taken to Train:\", t1 - t0)\n",
        "print(\"GoogleNet Batch Normalization Model Train Accuracy:\", GoogleNet_norm_Model.Metrics[\"Training_Accuracy\"][-1].item())\n",
        "print(\"GoogleNet Batch Normalization Model Test Accuracy:\", GoogleNet_norm_Model.Metrics[\"Test_Accuracy\"])\n",
        "\n",
        "    \n",
        "GoogleNet_norm_Model.model.to(\"cpu\")\n",
        "print(f\"Macs:{macs} | Params:{params}\")\n",
        "\n",
        "\n",
        "### PLOTTING METRICS\n",
        "plt.plot(GoogleNet_norm_Model.Metrics['Training_Accuracy'], label='Training Accuracy')\n",
        "plt.plot(GoogleNet_norm_Model.Metrics['Validation_Accuracy'], label='Validation Accuracy')\n",
        "plt.plot(GoogleNet_norm_Model.Metrics['Training_Loss'], label='Training Loss')\n",
        "plt.plot(GoogleNet_norm_Model.Metrics['Validation_Loss'], label='Validation Loss')\n",
        "plt.xlabel('Epoch')\n",
        "plt.ylabel('Metric')\n",
        "plt.legend()"
      ],
      "metadata": {
        "colab": {
          "base_uri": "https://localhost:8080/",
          "height": 1000
        },
        "id": "q5lqQyJj2NHM",
        "outputId": "98337a7e-0d65-4f90-cf74-6d5caf8d251c"
      },
      "execution_count": 21,
      "outputs": [
        {
          "output_type": "stream",
          "name": "stderr",
          "text": [
            "100%|██████████| 157/157 [00:41<00:00,  3.79it/s]"
          ]
        },
        {
          "output_type": "stream",
          "name": "stdout",
          "text": [
            "Current Epoch: 1\n",
            "Training_Loss: 1.9080926779728786  | Validation_Loss: 2.3025783240795135\n",
            "Training_Accuracy: 0.2693159878253937  | Validation_Accuracy: 0.09749995917081833\n"
          ]
        },
        {
          "output_type": "stream",
          "name": "stderr",
          "text": [
            "\n",
            "100%|██████████| 157/157 [00:41<00:00,  3.74it/s]"
          ]
        },
        {
          "output_type": "stream",
          "name": "stdout",
          "text": [
            "Current Epoch: 2\n",
            "Training_Loss: 1.7020056217339388  | Validation_Loss: 1.882470005750656\n",
            "Training_Accuracy: 0.36051422357559204  | Validation_Accuracy: 0.3091454803943634\n"
          ]
        },
        {
          "output_type": "stream",
          "name": "stderr",
          "text": [
            "\n",
            "100%|██████████| 157/157 [00:41<00:00,  3.80it/s]"
          ]
        },
        {
          "output_type": "stream",
          "name": "stdout",
          "text": [
            "Current Epoch: 3\n",
            "Training_Loss: 1.5871015468220802  | Validation_Loss: 1.4772337824106216\n",
            "Training_Accuracy: 0.4068325161933899  | Validation_Accuracy: 0.454537570476532\n"
          ]
        },
        {
          "output_type": "stream",
          "name": "stderr",
          "text": [
            "\n",
            "100%|██████████| 157/157 [00:41<00:00,  3.76it/s]"
          ]
        },
        {
          "output_type": "stream",
          "name": "stdout",
          "text": [
            "Current Epoch: 4\n",
            "Training_Loss: 1.483576867990433  | Validation_Loss: 1.3209970772266388\n",
            "Training_Accuracy: 0.44752034544944763  | Validation_Accuracy: 0.5377708077430725\n"
          ]
        },
        {
          "output_type": "stream",
          "name": "stderr",
          "text": [
            "\n",
            "100%|██████████| 157/157 [00:44<00:00,  3.57it/s]"
          ]
        },
        {
          "output_type": "stream",
          "name": "stdout",
          "text": [
            "Current Epoch: 5\n",
            "Training_Loss: 1.4314093346808368  | Validation_Loss: 1.2319439440965652\n",
            "Training_Accuracy: 0.4655749201774597  | Validation_Accuracy: 0.5594832897186279\n"
          ]
        },
        {
          "output_type": "stream",
          "name": "stderr",
          "text": [
            "\n",
            "100%|██████████| 157/157 [00:42<00:00,  3.69it/s]"
          ]
        },
        {
          "output_type": "stream",
          "name": "stdout",
          "text": [
            "Current Epoch: 6\n",
            "Training_Loss: 1.3696170422681577  | Validation_Loss: 1.0322759374976158\n",
            "Training_Accuracy: 0.4874570369720459  | Validation_Accuracy: 0.6587958931922913\n"
          ]
        },
        {
          "output_type": "stream",
          "name": "stderr",
          "text": [
            "\n",
            "100%|██████████| 157/157 [00:41<00:00,  3.75it/s]"
          ]
        },
        {
          "output_type": "stream",
          "name": "stdout",
          "text": [
            "Current Epoch: 7\n",
            "Training_Loss: 1.3163370706473188  | Validation_Loss: 0.9954254195094109\n",
            "Training_Accuracy: 0.5071665644645691  | Validation_Accuracy: 0.6577142477035522\n"
          ]
        },
        {
          "output_type": "stream",
          "name": "stderr",
          "text": [
            "\n",
            "100%|██████████| 157/157 [00:41<00:00,  3.74it/s]"
          ]
        },
        {
          "output_type": "stream",
          "name": "stdout",
          "text": [
            "Current Epoch: 8\n",
            "Training_Loss: 1.2880526614037289  | Validation_Loss: 1.1201131463050842\n",
            "Training_Accuracy: 0.5168569684028625  | Validation_Accuracy: 0.6117154359817505\n"
          ]
        },
        {
          "output_type": "stream",
          "name": "stderr",
          "text": [
            "\n",
            "100%|██████████| 157/157 [00:42<00:00,  3.71it/s]"
          ]
        },
        {
          "output_type": "stream",
          "name": "stdout",
          "text": [
            "Current Epoch: 9\n",
            "Training_Loss: 1.2664368630974157  | Validation_Loss: 0.9425307244062424\n",
            "Training_Accuracy: 0.5249510407447815  | Validation_Accuracy: 0.6709490418434143\n"
          ]
        },
        {
          "output_type": "stream",
          "name": "stderr",
          "text": [
            "\n",
            "100%|██████████| 157/157 [00:41<00:00,  3.74it/s]"
          ]
        },
        {
          "output_type": "stream",
          "name": "stdout",
          "text": [
            "Current Epoch: 10\n",
            "Training_Loss: 1.2334655929522909  | Validation_Loss: 0.8218594297766686\n",
            "Training_Accuracy: 0.5360414981842041  | Validation_Accuracy: 0.7183423042297363\n"
          ]
        },
        {
          "output_type": "stream",
          "name": "stderr",
          "text": [
            "\n"
          ]
        },
        {
          "output_type": "stream",
          "name": "stdout",
          "text": [
            "Warning: variables __flops__ or __params__ are already defined for the moduleConv2d ptflops can affect your code!\n",
            "Warning: variables __flops__ or __params__ are already defined for the moduleReLU ptflops can affect your code!\n",
            "Warning: variables __flops__ or __params__ are already defined for the moduleMaxPool2d ptflops can affect your code!\n",
            "Warning: variables __flops__ or __params__ are already defined for the moduleConv2d ptflops can affect your code!\n",
            "Warning: variables __flops__ or __params__ are already defined for the moduleReLU ptflops can affect your code!\n",
            "Warning: variables __flops__ or __params__ are already defined for the moduleConv2d ptflops can affect your code!\n",
            "Warning: variables __flops__ or __params__ are already defined for the moduleReLU ptflops can affect your code!\n",
            "Warning: variables __flops__ or __params__ are already defined for the moduleMaxPool2d ptflops can affect your code!\n",
            "Warning: variables __flops__ or __params__ are already defined for the moduleConv2d ptflops can affect your code!\n",
            "Warning: variables __flops__ or __params__ are already defined for the moduleBatchNorm2d ptflops can affect your code!\n",
            "Warning: variables __flops__ or __params__ are already defined for the moduleReLU ptflops can affect your code!\n",
            "Warning: variables __flops__ or __params__ are already defined for the moduleConv2d ptflops can affect your code!\n",
            "Warning: variables __flops__ or __params__ are already defined for the moduleBatchNorm2d ptflops can affect your code!\n",
            "Warning: variables __flops__ or __params__ are already defined for the moduleReLU ptflops can affect your code!\n",
            "Warning: variables __flops__ or __params__ are already defined for the moduleConv2d ptflops can affect your code!\n",
            "Warning: variables __flops__ or __params__ are already defined for the moduleBatchNorm2d ptflops can affect your code!\n",
            "Warning: variables __flops__ or __params__ are already defined for the moduleReLU ptflops can affect your code!\n",
            "Warning: variables __flops__ or __params__ are already defined for the moduleConv2d ptflops can affect your code!\n",
            "Warning: variables __flops__ or __params__ are already defined for the moduleBatchNorm2d ptflops can affect your code!\n",
            "Warning: variables __flops__ or __params__ are already defined for the moduleReLU ptflops can affect your code!\n",
            "Warning: variables __flops__ or __params__ are already defined for the moduleConv2d ptflops can affect your code!\n",
            "Warning: variables __flops__ or __params__ are already defined for the moduleBatchNorm2d ptflops can affect your code!\n",
            "Warning: variables __flops__ or __params__ are already defined for the moduleReLU ptflops can affect your code!\n",
            "Warning: variables __flops__ or __params__ are already defined for the moduleMaxPool2d ptflops can affect your code!\n",
            "Warning: variables __flops__ or __params__ are already defined for the moduleConv2d ptflops can affect your code!\n",
            "Warning: variables __flops__ or __params__ are already defined for the moduleBatchNorm2d ptflops can affect your code!\n",
            "Warning: variables __flops__ or __params__ are already defined for the moduleReLU ptflops can affect your code!\n",
            "Warning: variables __flops__ or __params__ are already defined for the moduleConv2d ptflops can affect your code!\n",
            "Warning: variables __flops__ or __params__ are already defined for the moduleBatchNorm2d ptflops can affect your code!\n",
            "Warning: variables __flops__ or __params__ are already defined for the moduleReLU ptflops can affect your code!\n",
            "Warning: variables __flops__ or __params__ are already defined for the moduleConv2d ptflops can affect your code!\n",
            "Warning: variables __flops__ or __params__ are already defined for the moduleBatchNorm2d ptflops can affect your code!\n",
            "Warning: variables __flops__ or __params__ are already defined for the moduleReLU ptflops can affect your code!\n",
            "Warning: variables __flops__ or __params__ are already defined for the moduleConv2d ptflops can affect your code!\n",
            "Warning: variables __flops__ or __params__ are already defined for the moduleBatchNorm2d ptflops can affect your code!\n",
            "Warning: variables __flops__ or __params__ are already defined for the moduleReLU ptflops can affect your code!\n",
            "Warning: variables __flops__ or __params__ are already defined for the moduleConv2d ptflops can affect your code!\n",
            "Warning: variables __flops__ or __params__ are already defined for the moduleBatchNorm2d ptflops can affect your code!\n",
            "Warning: variables __flops__ or __params__ are already defined for the moduleReLU ptflops can affect your code!\n",
            "Warning: variables __flops__ or __params__ are already defined for the moduleConv2d ptflops can affect your code!\n",
            "Warning: variables __flops__ or __params__ are already defined for the moduleBatchNorm2d ptflops can affect your code!\n",
            "Warning: variables __flops__ or __params__ are already defined for the moduleReLU ptflops can affect your code!\n",
            "Warning: variables __flops__ or __params__ are already defined for the moduleMaxPool2d ptflops can affect your code!\n",
            "Warning: variables __flops__ or __params__ are already defined for the moduleConv2d ptflops can affect your code!\n",
            "Warning: variables __flops__ or __params__ are already defined for the moduleBatchNorm2d ptflops can affect your code!\n",
            "Warning: variables __flops__ or __params__ are already defined for the moduleReLU ptflops can affect your code!\n",
            "Warning: variables __flops__ or __params__ are already defined for the moduleMaxPool2d ptflops can affect your code!\n",
            "Warning: variables __flops__ or __params__ are already defined for the moduleConv2d ptflops can affect your code!\n",
            "Warning: variables __flops__ or __params__ are already defined for the moduleBatchNorm2d ptflops can affect your code!\n",
            "Warning: variables __flops__ or __params__ are already defined for the moduleReLU ptflops can affect your code!\n",
            "Warning: variables __flops__ or __params__ are already defined for the moduleConv2d ptflops can affect your code!\n",
            "Warning: variables __flops__ or __params__ are already defined for the moduleBatchNorm2d ptflops can affect your code!\n",
            "Warning: variables __flops__ or __params__ are already defined for the moduleReLU ptflops can affect your code!\n",
            "Warning: variables __flops__ or __params__ are already defined for the moduleConv2d ptflops can affect your code!\n",
            "Warning: variables __flops__ or __params__ are already defined for the moduleBatchNorm2d ptflops can affect your code!\n",
            "Warning: variables __flops__ or __params__ are already defined for the moduleReLU ptflops can affect your code!\n",
            "Warning: variables __flops__ or __params__ are already defined for the moduleConv2d ptflops can affect your code!\n",
            "Warning: variables __flops__ or __params__ are already defined for the moduleBatchNorm2d ptflops can affect your code!\n",
            "Warning: variables __flops__ or __params__ are already defined for the moduleReLU ptflops can affect your code!\n",
            "Warning: variables __flops__ or __params__ are already defined for the moduleConv2d ptflops can affect your code!\n",
            "Warning: variables __flops__ or __params__ are already defined for the moduleBatchNorm2d ptflops can affect your code!\n",
            "Warning: variables __flops__ or __params__ are already defined for the moduleReLU ptflops can affect your code!\n",
            "Warning: variables __flops__ or __params__ are already defined for the moduleMaxPool2d ptflops can affect your code!\n",
            "Warning: variables __flops__ or __params__ are already defined for the moduleConv2d ptflops can affect your code!\n",
            "Warning: variables __flops__ or __params__ are already defined for the moduleBatchNorm2d ptflops can affect your code!\n",
            "Warning: variables __flops__ or __params__ are already defined for the moduleReLU ptflops can affect your code!\n",
            "Warning: variables __flops__ or __params__ are already defined for the moduleConv2d ptflops can affect your code!\n",
            "Warning: variables __flops__ or __params__ are already defined for the moduleBatchNorm2d ptflops can affect your code!\n",
            "Warning: variables __flops__ or __params__ are already defined for the moduleReLU ptflops can affect your code!\n",
            "Warning: variables __flops__ or __params__ are already defined for the moduleConv2d ptflops can affect your code!\n",
            "Warning: variables __flops__ or __params__ are already defined for the moduleBatchNorm2d ptflops can affect your code!\n",
            "Warning: variables __flops__ or __params__ are already defined for the moduleReLU ptflops can affect your code!\n",
            "Warning: variables __flops__ or __params__ are already defined for the moduleConv2d ptflops can affect your code!\n",
            "Warning: variables __flops__ or __params__ are already defined for the moduleBatchNorm2d ptflops can affect your code!\n",
            "Warning: variables __flops__ or __params__ are already defined for the moduleReLU ptflops can affect your code!\n",
            "Warning: variables __flops__ or __params__ are already defined for the moduleConv2d ptflops can affect your code!\n",
            "Warning: variables __flops__ or __params__ are already defined for the moduleBatchNorm2d ptflops can affect your code!\n",
            "Warning: variables __flops__ or __params__ are already defined for the moduleReLU ptflops can affect your code!\n",
            "Warning: variables __flops__ or __params__ are already defined for the moduleConv2d ptflops can affect your code!\n",
            "Warning: variables __flops__ or __params__ are already defined for the moduleBatchNorm2d ptflops can affect your code!\n",
            "Warning: variables __flops__ or __params__ are already defined for the moduleReLU ptflops can affect your code!\n",
            "Warning: variables __flops__ or __params__ are already defined for the moduleMaxPool2d ptflops can affect your code!\n",
            "Warning: variables __flops__ or __params__ are already defined for the moduleConv2d ptflops can affect your code!\n",
            "Warning: variables __flops__ or __params__ are already defined for the moduleBatchNorm2d ptflops can affect your code!\n",
            "Warning: variables __flops__ or __params__ are already defined for the moduleReLU ptflops can affect your code!\n",
            "Warning: variables __flops__ or __params__ are already defined for the moduleAdaptiveAvgPool2d ptflops can affect your code!\n",
            "Warning: variables __flops__ or __params__ are already defined for the moduleLinear ptflops can affect your code!\n",
            "Warning: variables __flops__ or __params__ are already defined for the moduleReLU ptflops can affect your code!\n",
            "Warning: variables __flops__ or __params__ are already defined for the moduleLinear ptflops can affect your code!\n",
            "Warning: module Inception is treated as a zero-op.\n",
            "Warning: module Flatten is treated as a zero-op.\n",
            "Warning: module Dropout1d is treated as a zero-op.\n",
            "Warning: module GoogLeNet is treated as a zero-op.\n",
            "Time Taken to Train: 0:08:02.120063\n",
            "GoogleNet Batch Normalization Model Train Accuracy: 0.5360414981842041\n",
            "GoogleNet Batch Normalization Model Test Accuracy: 0.7067999243736267\n",
            "Macs:662.13 MMac | Params:2.78 M\n"
          ]
        },
        {
          "output_type": "execute_result",
          "data": {
            "text/plain": [
              "<matplotlib.legend.Legend at 0x7f36d7be03a0>"
            ]
          },
          "metadata": {},
          "execution_count": 21
        },
        {
          "output_type": "display_data",
          "data": {
            "text/plain": [
              "<Figure size 432x288 with 1 Axes>"
            ],
            "image/png": "[encoded data removed]"
          },
          "metadata": {
            "needs_background": "light"
          }
        }
      ]
    },
    {
      "cell_type": "markdown",
      "source": [
        "### Results --  Model Comparison after adding Batch Normalization\n",
        "#### GoogLeNet Baseline Model\n",
        "\n",
        "---\n",
        "\n",
        "\n",
        "\n",
        "Time Taken to Train: 0:07:31.100964  \n",
        "GoogleNet Model Train Accuracy: 0.33688339591026306  \n",
        "GoogleNet Model Test Accuracy: 0.5223000049591064  \n",
        "Macs:660.48 MMac | Params:2.77 M\n",
        "\n",
        "#### GoogLeNet Model with Batch Normalization\n",
        "\n",
        "---\n",
        "\n",
        "\n",
        "    \n",
        "Time Taken to Train: 0:08:02.120063  \n",
        "GoogleNet Batch Normalization Model Train Accuracy: 0.5360414981842041  \n",
        "GoogleNet Batch Normalization Model Test Accuracy: 0.7067999243736267  \n",
        "Macs:662.13 MMac | Params:2.78 M  \n",
        "\n",
        "Batch Normalization helped improving the accuracy by close to 20% and has taken 30 seconds more to train.\n"
      ],
      "metadata": {
        "id": "MFQ_UJ3Y9Tlp"
      }
    },
    {
      "cell_type": "markdown",
      "source": [
        "Problem 3:  \n",
        "Part a) Baseline ResNet-18"
      ],
      "metadata": {
        "id": "IuH3Yvcv9BYj"
      }
    },
    {
      "cell_type": "code",
      "source": [
        "class Residual(nn.Module):\n",
        "    def __init__(self, num_channels, use_1x1conv=False, strides=1):\n",
        "        super().__init__()\n",
        "        self.conv1 = nn.LazyConv2d(num_channels, kernel_size=3, padding=1,\n",
        "                                   stride=strides)\n",
        "        self.conv2 = nn.LazyConv2d(num_channels, kernel_size=3, padding=1)\n",
        "        if use_1x1conv:\n",
        "            self.conv3 = nn.LazyConv2d(num_channels, kernel_size=1,\n",
        "                                       stride=strides)\n",
        "        else:\n",
        "            self.conv3 = None\n",
        "        self.bn1 = nn.LazyBatchNorm2d()\n",
        "        self.bn2 = nn.LazyBatchNorm2d()\n",
        "\n",
        "    def forward(self, X):\n",
        "        Y = F.relu(self.bn1(self.conv1(X)))\n",
        "        Y = self.bn2(self.conv2(Y))\n",
        "        if self.conv3:\n",
        "            X = self.conv3(X)\n",
        "        Y += X\n",
        "        return F.relu(Y)\n",
        "        "
      ],
      "metadata": {
        "id": "Hba8wSGX68yF"
      },
      "execution_count": 22,
      "outputs": []
    },
    {
      "cell_type": "code",
      "source": [
        "class ResNet(nn.Module):\n",
        "    def b1(self):\n",
        "        return nn.Sequential(\n",
        "            nn.LazyConv2d(64, kernel_size=7, stride=2, padding=3),\n",
        "            nn.LazyBatchNorm2d(), nn.ReLU(),\n",
        "            nn.MaxPool2d(kernel_size=3, stride=2, padding=1))\n",
        "    \n",
        "    def block(self, num_residuals, num_channels, first_block=False):\n",
        "      blk = []\n",
        "      for i in range(num_residuals):\n",
        "          if i == 0 and not first_block:\n",
        "              blk.append(Residual(num_channels, use_1x1conv=True, strides=2))\n",
        "          else:\n",
        "              blk.append(Residual(num_channels))\n",
        "      return nn.Sequential(*blk)\n",
        "\n",
        "    def __init__(self, arch, lr=0.1, num_classes=10):\n",
        "      super(ResNet, self).__init__()\n",
        "      \n",
        "      self.net = nn.Sequential(self.b1())\n",
        "      for i, b in enumerate(arch):\n",
        "          self.net.add_module(f'b{i+2}', self.block(*b, first_block=(i==0)))\n",
        "      self.net.add_module('last', nn.Sequential(\n",
        "          nn.AdaptiveAvgPool2d((1, 1)), nn.Flatten(),\n",
        "          nn.LazyLinear(num_classes)))\n",
        "      self.net.apply(d2l.init_cnn)\n",
        "\n",
        "    def forward(self, x):\n",
        "        return self.net(x)\n",
        "\n",
        "\n"
      ],
      "metadata": {
        "id": "Xp4K54tFCKJc"
      },
      "execution_count": 23,
      "outputs": []
    },
    {
      "cell_type": "code",
      "source": [
        "resnet_18_arch = ResNet(((2, 64), (2, 128), (2, 256), (2, 512)))\n",
        "\n",
        "resnet_18_Model = Train_Model(resnet_18_arch, nn.CrossEntropyLoss(), torch.optim.SGD(resnet_18_arch.parameters(), lr=0.1, momentum=0.9), MulticlassAccuracy, \"Classification\",  device_to_use, 10)\n",
        "\n",
        "t0 = datetime.now()\n",
        "resnet_18_Model.fit(trainLoader, validateLoader, 10)\n",
        "t1 = datetime.now()\n",
        "\n",
        "resnet_18_Model.Test_Model(testLoader)\n",
        "\n",
        "macs, params = get_model_complexity_info(resnet_18_Model.model, (3, 64, 64), as_strings=True, print_per_layer_stat=False, verbose=True)\n",
        "\n",
        "\n",
        "print(\"Time Taken to Train:\", t1 - t0)\n",
        "print(\"ResNet-18 Model Train Accuracy:\", resnet_18_Model.Metrics[\"Training_Accuracy\"][-1].item())\n",
        "print(\"ResNet-18 Model Test Accuracy:\", resnet_18_Model.Metrics[\"Test_Accuracy\"])\n",
        "\n",
        "    \n",
        "resnet_18_Model.model.to(\"cpu\")\n",
        "print(f\"Macs:{macs} | Params:{params}\")\n",
        "\n",
        "\n",
        "### PLOTTING METRICS\n",
        "plt.plot(resnet_18_Model.Metrics['Training_Accuracy'], label='Training Accuracy')\n",
        "plt.plot(resnet_18_Model.Metrics['Validation_Accuracy'], label='Validation Accuracy')\n",
        "plt.plot(resnet_18_Model.Metrics['Training_Loss'], label='Training Loss')\n",
        "plt.plot(resnet_18_Model.Metrics['Validation_Loss'], label='Validation Loss')\n",
        "plt.xlabel('Epoch')\n",
        "plt.ylabel('Metric')\n",
        "plt.legend()"
      ],
      "metadata": {
        "colab": {
          "base_uri": "https://localhost:8080/",
          "height": 1000
        },
        "id": "QORa8bJFgvr3",
        "outputId": "ce1488bf-564a-417c-d21f-6e1fc9547a20"
      },
      "execution_count": 24,
      "outputs": [
        {
          "output_type": "stream",
          "name": "stderr",
          "text": [
            "100%|██████████| 157/157 [00:25<00:00,  6.15it/s]"
          ]
        },
        {
          "output_type": "stream",
          "name": "stdout",
          "text": [
            "Current Epoch: 1\n",
            "Training_Loss: 1.7784921500333555  | Validation_Loss: 2.3028887689113615\n",
            "Training_Accuracy: 0.36373183131217957  | Validation_Accuracy: 0.09749995917081833\n"
          ]
        },
        {
          "output_type": "stream",
          "name": "stderr",
          "text": [
            "\n",
            "100%|██████████| 157/157 [00:26<00:00,  5.90it/s]"
          ]
        },
        {
          "output_type": "stream",
          "name": "stdout",
          "text": [
            "Current Epoch: 2\n",
            "Training_Loss: 1.285133929768945  | Validation_Loss: 1.607448798418045\n",
            "Training_Accuracy: 0.5362505316734314  | Validation_Accuracy: 0.440591961145401\n"
          ]
        },
        {
          "output_type": "stream",
          "name": "stderr",
          "text": [
            "\n",
            "100%|██████████| 157/157 [00:25<00:00,  6.15it/s]"
          ]
        },
        {
          "output_type": "stream",
          "name": "stdout",
          "text": [
            "Current Epoch: 3\n",
            "Training_Loss: 1.0478743580496235  | Validation_Loss: 1.2179712861776353\n",
            "Training_Accuracy: 0.630338191986084  | Validation_Accuracy: 0.5560810565948486\n"
          ]
        },
        {
          "output_type": "stream",
          "name": "stderr",
          "text": [
            "\n",
            "100%|██████████| 157/157 [00:26<00:00,  6.04it/s]"
          ]
        },
        {
          "output_type": "stream",
          "name": "stdout",
          "text": [
            "Current Epoch: 4\n",
            "Training_Loss: 0.8772715466796972  | Validation_Loss: 1.0796271607279777\n",
            "Training_Accuracy: 0.693493664264679  | Validation_Accuracy: 0.6153527498245239\n"
          ]
        },
        {
          "output_type": "stream",
          "name": "stderr",
          "text": [
            "\n",
            "100%|██████████| 157/157 [00:25<00:00,  6.12it/s]"
          ]
        },
        {
          "output_type": "stream",
          "name": "stdout",
          "text": [
            "Current Epoch: 5\n",
            "Training_Loss: 0.7417342742537237  | Validation_Loss: 1.0926261052489281\n",
            "Training_Accuracy: 0.7411274313926697  | Validation_Accuracy: 0.6291943192481995\n"
          ]
        },
        {
          "output_type": "stream",
          "name": "stderr",
          "text": [
            "\n",
            "100%|██████████| 157/157 [00:25<00:00,  6.14it/s]"
          ]
        },
        {
          "output_type": "stream",
          "name": "stdout",
          "text": [
            "Current Epoch: 6\n",
            "Training_Loss: 0.621843221271114  | Validation_Loss: 0.9080036506056786\n",
            "Training_Accuracy: 0.7861961126327515  | Validation_Accuracy: 0.6864392161369324\n"
          ]
        },
        {
          "output_type": "stream",
          "name": "stderr",
          "text": [
            "\n",
            "100%|██████████| 157/157 [00:25<00:00,  6.11it/s]"
          ]
        },
        {
          "output_type": "stream",
          "name": "stdout",
          "text": [
            "Current Epoch: 7\n",
            "Training_Loss: 0.49111483658954597  | Validation_Loss: 0.8679971769452095\n",
            "Training_Accuracy: 0.8313446044921875  | Validation_Accuracy: 0.7054575681686401\n"
          ]
        },
        {
          "output_type": "stream",
          "name": "stderr",
          "text": [
            "\n",
            "100%|██████████| 157/157 [00:25<00:00,  6.12it/s]"
          ]
        },
        {
          "output_type": "stream",
          "name": "stdout",
          "text": [
            "Current Epoch: 8\n",
            "Training_Loss: 0.3815877613178484  | Validation_Loss: 0.9176779717206955\n",
            "Training_Accuracy: 0.8715055584907532  | Validation_Accuracy: 0.704586386680603\n"
          ]
        },
        {
          "output_type": "stream",
          "name": "stderr",
          "text": [
            "\n",
            "100%|██████████| 157/157 [00:25<00:00,  6.21it/s]"
          ]
        },
        {
          "output_type": "stream",
          "name": "stdout",
          "text": [
            "Current Epoch: 9\n",
            "Training_Loss: 0.3009584089563151  | Validation_Loss: 0.9476412162184715\n",
            "Training_Accuracy: 0.8980315327644348  | Validation_Accuracy: 0.7087833881378174\n"
          ]
        },
        {
          "output_type": "stream",
          "name": "stderr",
          "text": [
            "\n",
            "100%|██████████| 157/157 [00:26<00:00,  5.86it/s]"
          ]
        },
        {
          "output_type": "stream",
          "name": "stdout",
          "text": [
            "Current Epoch: 10\n",
            "Training_Loss: 0.223610167528034  | Validation_Loss: 0.9640276059508324\n",
            "Training_Accuracy: 0.9243401885032654  | Validation_Accuracy: 0.7168797254562378\n"
          ]
        },
        {
          "output_type": "stream",
          "name": "stderr",
          "text": [
            "\n"
          ]
        },
        {
          "output_type": "stream",
          "name": "stdout",
          "text": [
            "Warning: module Residual is treated as a zero-op.\n",
            "Warning: module Flatten is treated as a zero-op.\n",
            "Warning: module ResNet is treated as a zero-op.\n",
            "Time Taken to Train: 0:05:13.292934\n",
            "ResNet-18 Model Train Accuracy: 0.9243401885032654\n",
            "ResNet-18 Model Test Accuracy: 0.7236999869346619\n",
            "Macs:148.76 MMac | Params:11.18 M\n"
          ]
        },
        {
          "output_type": "execute_result",
          "data": {
            "text/plain": [
              "<matplotlib.legend.Legend at 0x7f36d7b453d0>"
            ]
          },
          "metadata": {},
          "execution_count": 24
        },
        {
          "output_type": "display_data",
          "data": {
            "text/plain": [
              "<Figure size 432x288 with 1 Axes>"
            ],
            "image/png": "[encoded data removed]"
          },
          "metadata": {
            "needs_background": "light"
          }
        }
      ]
    },
    {
      "cell_type": "markdown",
      "source": [
        "Part b) ResNet-26 Model"
      ],
      "metadata": {
        "id": "JqujKNnnQmiC"
      }
    },
    {
      "cell_type": "code",
      "source": [
        "resnet_26_arch = ResNet(((2, 64), (3, 128), (3, 256), (2, 512)))\n",
        "\n",
        "resnet_26_Model = Train_Model(resnet_26_arch, nn.CrossEntropyLoss(), torch.optim.SGD(resnet_26_arch.parameters(), lr=0.1, momentum=0.9), MulticlassAccuracy, \"Classification\",  device_to_use, 10)\n",
        "\n",
        "t0 = datetime.now()\n",
        "resnet_26_Model.fit(trainLoader, validateLoader, 10)\n",
        "t1 = datetime.now()\n",
        "\n",
        "resnet_26_Model.Test_Model(testLoader)\n",
        "\n",
        "macs, params = get_model_complexity_info(resnet_26_Model.model, (3, 64, 64), as_strings=True, print_per_layer_stat=False, verbose=True)\n",
        "\n",
        "\n",
        "print(\"Time Taken to Train:\", t1 - t0)\n",
        "print(\"ResNet-26 Model Train Accuracy:\", resnet_26_Model.Metrics[\"Training_Accuracy\"][-1].item())\n",
        "print(\"ResNet-26 Model Test Accuracy:\", resnet_26_Model.Metrics[\"Test_Accuracy\"])\n",
        "\n",
        "    \n",
        "resnet_26_Model.model.to(\"cpu\")\n",
        "print(f\"Macs:{macs} | Params:{params}\")\n",
        "\n",
        "\n",
        "### PLOTTING METRICS\n",
        "plt.plot(resnet_26_Model.Metrics['Training_Accuracy'], label='Training Accuracy')\n",
        "plt.plot(resnet_26_Model.Metrics['Validation_Accuracy'], label='Validation Accuracy')\n",
        "plt.plot(resnet_26_Model.Metrics['Training_Loss'], label='Training Loss')\n",
        "plt.plot(resnet_26_Model.Metrics['Validation_Loss'], label='Validation Loss')\n",
        "plt.xlabel('Epoch')\n",
        "plt.ylabel('Metric')\n",
        "plt.legend()"
      ],
      "metadata": {
        "colab": {
          "base_uri": "https://localhost:8080/",
          "height": 1000
        },
        "id": "Kno2Bat-PCdV",
        "outputId": "3d78384c-2c39-4547-87a1-f1c50da5f6ec"
      },
      "execution_count": 25,
      "outputs": [
        {
          "output_type": "stream",
          "name": "stderr",
          "text": [
            "100%|██████████| 157/157 [00:25<00:00,  6.04it/s]"
          ]
        },
        {
          "output_type": "stream",
          "name": "stdout",
          "text": [
            "Current Epoch: 1\n",
            "Training_Loss: 1.8332353177343963  | Validation_Loss: 2.302375066280365\n",
            "Training_Accuracy: 0.3431061804294586  | Validation_Accuracy: 0.09999995678663254\n"
          ]
        },
        {
          "output_type": "stream",
          "name": "stderr",
          "text": [
            "\n",
            "100%|██████████| 157/157 [00:26<00:00,  6.03it/s]"
          ]
        },
        {
          "output_type": "stream",
          "name": "stdout",
          "text": [
            "Current Epoch: 2\n",
            "Training_Loss: 1.3367187931279467  | Validation_Loss: 1.4924504339694977\n",
            "Training_Accuracy: 0.5192383527755737  | Validation_Accuracy: 0.45656442642211914\n"
          ]
        },
        {
          "output_type": "stream",
          "name": "stderr",
          "text": [
            "\n",
            "100%|██████████| 157/157 [00:25<00:00,  6.09it/s]"
          ]
        },
        {
          "output_type": "stream",
          "name": "stdout",
          "text": [
            "Current Epoch: 3\n",
            "Training_Loss: 1.1401197561033212  | Validation_Loss: 1.2529768615961074\n",
            "Training_Accuracy: 0.5946888327598572  | Validation_Accuracy: 0.5560831427574158\n"
          ]
        },
        {
          "output_type": "stream",
          "name": "stderr",
          "text": [
            "\n",
            "100%|██████████| 157/157 [00:31<00:00,  4.93it/s]"
          ]
        },
        {
          "output_type": "stream",
          "name": "stdout",
          "text": [
            "Current Epoch: 4\n",
            "Training_Loss: 0.9602623198442398  | Validation_Loss: 1.3017807751893997\n",
            "Training_Accuracy: 0.6630629897117615  | Validation_Accuracy: 0.5518912076950073\n"
          ]
        },
        {
          "output_type": "stream",
          "name": "stderr",
          "text": [
            "\n",
            "100%|██████████| 157/157 [00:26<00:00,  5.95it/s]"
          ]
        },
        {
          "output_type": "stream",
          "name": "stdout",
          "text": [
            "Current Epoch: 5\n",
            "Training_Loss: 0.8257238416914727  | Validation_Loss: 0.9637912437319756\n",
            "Training_Accuracy: 0.7118138670921326  | Validation_Accuracy: 0.6547685861587524\n"
          ]
        },
        {
          "output_type": "stream",
          "name": "stderr",
          "text": [
            "\n",
            "100%|██████████| 157/157 [00:25<00:00,  6.04it/s]"
          ]
        },
        {
          "output_type": "stream",
          "name": "stdout",
          "text": [
            "Current Epoch: 6\n",
            "Training_Loss: 0.7089845781113692  | Validation_Loss: 1.0287269219756126\n",
            "Training_Accuracy: 0.7550321817398071  | Validation_Accuracy: 0.6557901501655579\n"
          ]
        },
        {
          "output_type": "stream",
          "name": "stderr",
          "text": [
            "\n",
            "100%|██████████| 157/157 [00:26<00:00,  5.94it/s]"
          ]
        },
        {
          "output_type": "stream",
          "name": "stdout",
          "text": [
            "Current Epoch: 7\n",
            "Training_Loss: 0.6042578590523665  | Validation_Loss: 0.977295272052288\n",
            "Training_Accuracy: 0.7936270833015442  | Validation_Accuracy: 0.6826881170272827\n"
          ]
        },
        {
          "output_type": "stream",
          "name": "stderr",
          "text": [
            "\n",
            "100%|██████████| 157/157 [00:26<00:00,  6.00it/s]"
          ]
        },
        {
          "output_type": "stream",
          "name": "stdout",
          "text": [
            "Current Epoch: 8\n",
            "Training_Loss: 0.4983976629509288  | Validation_Loss: 0.8936097413301468\n",
            "Training_Accuracy: 0.8290793299674988  | Validation_Accuracy: 0.705004096031189\n"
          ]
        },
        {
          "output_type": "stream",
          "name": "stderr",
          "text": [
            "\n",
            "100%|██████████| 157/157 [00:26<00:00,  6.03it/s]"
          ]
        },
        {
          "output_type": "stream",
          "name": "stdout",
          "text": [
            "Current Epoch: 9\n",
            "Training_Loss: 0.40235565441429233  | Validation_Loss: 0.8762376829981804\n",
            "Training_Accuracy: 0.8619043827056885  | Validation_Accuracy: 0.7191401720046997\n"
          ]
        },
        {
          "output_type": "stream",
          "name": "stderr",
          "text": [
            "\n",
            "100%|██████████| 157/157 [00:27<00:00,  5.80it/s]"
          ]
        },
        {
          "output_type": "stream",
          "name": "stdout",
          "text": [
            "Current Epoch: 10\n",
            "Training_Loss: 0.32146137639595446  | Validation_Loss: 0.8827993959188462\n",
            "Training_Accuracy: 0.8908166289329529  | Validation_Accuracy: 0.7342544794082642\n"
          ]
        },
        {
          "output_type": "stream",
          "name": "stderr",
          "text": [
            "\n"
          ]
        },
        {
          "output_type": "stream",
          "name": "stdout",
          "text": [
            "Warning: module Residual is treated as a zero-op.\n",
            "Warning: module Flatten is treated as a zero-op.\n",
            "Warning: module ResNet is treated as a zero-op.\n",
            "Time Taken to Train: 0:05:24.531777\n",
            "ResNet-26 Model Train Accuracy: 0.8908166289329529\n",
            "ResNet-26 Model Test Accuracy: 0.7288999557495117\n",
            "Macs:186.59 MMac | Params:12.66 M\n"
          ]
        },
        {
          "output_type": "execute_result",
          "data": {
            "text/plain": [
              "<matplotlib.legend.Legend at 0x7f36d7b25700>"
            ]
          },
          "metadata": {},
          "execution_count": 25
        },
        {
          "output_type": "display_data",
          "data": {
            "text/plain": [
              "<Figure size 432x288 with 1 Axes>"
            ],
            "image/png": "[encoded data removed]"
          },
          "metadata": {
            "needs_background": "light"
          }
        }
      ]
    },
    {
      "cell_type": "markdown",
      "source": [
        "ResNet-32 Model"
      ],
      "metadata": {
        "id": "y3qc6-oeSoR2"
      }
    },
    {
      "cell_type": "code",
      "source": [
        "resnet_32_arch = ResNet(((2, 64), (3, 128), (3, 256), (3, 512)))\n",
        "\n",
        "resnet_32_Model = Train_Model(resnet_32_arch, nn.CrossEntropyLoss(), torch.optim.SGD(resnet_32_arch.parameters(), lr=0.1, momentum=0.9), MulticlassAccuracy, \"Classification\",  device_to_use, 10)\n",
        "\n",
        "t0 = datetime.now()\n",
        "resnet_32_Model.fit(trainLoader, validateLoader, 10)\n",
        "t1 = datetime.now()\n",
        "\n",
        "resnet_32_Model.Test_Model(testLoader)\n",
        "\n",
        "macs, params = get_model_complexity_info(resnet_32_Model.model, (3, 64, 64), as_strings=True, print_per_layer_stat=False, verbose=True)\n",
        "\n",
        "\n",
        "print(\"Time Taken to Train:\", t1 - t0)\n",
        "print(\"ResNet-32 Model Train Accuracy:\", resnet_32_Model.Metrics[\"Training_Accuracy\"][-1].item())\n",
        "print(\"ResNet-32 Model Test Accuracy:\", resnet_32_Model.Metrics[\"Test_Accuracy\"])\n",
        "\n",
        "    \n",
        "resnet_32_Model.model.to(\"cpu\")\n",
        "print(f\"Macs:{macs} | Params:{params}\")\n",
        "\n",
        "\n",
        "### PLOTTING METRICS\n",
        "plt.plot(resnet_32_Model.Metrics['Training_Accuracy'], label='Training Accuracy')\n",
        "plt.plot(resnet_32_Model.Metrics['Validation_Accuracy'], label='Validation Accuracy')\n",
        "plt.plot(resnet_32_Model.Metrics['Training_Loss'], label='Training Loss')\n",
        "plt.plot(resnet_32_Model.Metrics['Validation_Loss'], label='Validation Loss')\n",
        "plt.xlabel('Epoch')\n",
        "plt.ylabel('Metric')\n",
        "plt.legend()"
      ],
      "metadata": {
        "colab": {
          "base_uri": "https://localhost:8080/",
          "height": 1000
        },
        "id": "g932_8KSSmhu",
        "outputId": "4ad064d0-f1f8-42ac-ed0a-e9b3a5c455ba"
      },
      "execution_count": 26,
      "outputs": [
        {
          "output_type": "stream",
          "name": "stderr",
          "text": [
            "100%|██████████| 157/157 [00:29<00:00,  5.41it/s]"
          ]
        },
        {
          "output_type": "stream",
          "name": "stdout",
          "text": [
            "Current Epoch: 1\n",
            "Training_Loss: 2.634732035314961  | Validation_Loss: 2.302809774875641\n",
            "Training_Accuracy: 0.11624844372272491  | Validation_Accuracy: 0.10674691200256348\n"
          ]
        },
        {
          "output_type": "stream",
          "name": "stderr",
          "text": [
            "\n",
            "100%|██████████| 157/157 [00:28<00:00,  5.49it/s]"
          ]
        },
        {
          "output_type": "stream",
          "name": "stdout",
          "text": [
            "Current Epoch: 2\n",
            "Training_Loss: 2.0729341013416365  | Validation_Loss: 2.2243247985839845\n",
            "Training_Accuracy: 0.21823273599147797  | Validation_Accuracy: 0.14884015917778015\n"
          ]
        },
        {
          "output_type": "stream",
          "name": "stderr",
          "text": [
            "\n",
            "100%|██████████| 157/157 [00:25<00:00,  6.05it/s]"
          ]
        },
        {
          "output_type": "stream",
          "name": "stdout",
          "text": [
            "Current Epoch: 3\n",
            "Training_Loss: 1.764263367956611  | Validation_Loss: 2.1008968353271484\n",
            "Training_Accuracy: 0.3392455279827118  | Validation_Accuracy: 0.2050163447856903\n"
          ]
        },
        {
          "output_type": "stream",
          "name": "stderr",
          "text": [
            "\n",
            "100%|██████████| 157/157 [00:30<00:00,  5.12it/s]"
          ]
        },
        {
          "output_type": "stream",
          "name": "stdout",
          "text": [
            "Current Epoch: 4\n",
            "Training_Loss: 1.5329420566558838  | Validation_Loss: 1.661171168088913\n",
            "Training_Accuracy: 0.438223659992218  | Validation_Accuracy: 0.381881982088089\n"
          ]
        },
        {
          "output_type": "stream",
          "name": "stderr",
          "text": [
            "\n",
            "100%|██████████| 157/157 [00:26<00:00,  5.97it/s]"
          ]
        },
        {
          "output_type": "stream",
          "name": "stdout",
          "text": [
            "Current Epoch: 5\n",
            "Training_Loss: 1.3620300475199512  | Validation_Loss: 1.4728706985712052\n",
            "Training_Accuracy: 0.504921555519104  | Validation_Accuracy: 0.4607784152030945\n"
          ]
        },
        {
          "output_type": "stream",
          "name": "stderr",
          "text": [
            "\n",
            "100%|██████████| 157/157 [00:26<00:00,  5.95it/s]"
          ]
        },
        {
          "output_type": "stream",
          "name": "stdout",
          "text": [
            "Current Epoch: 6\n",
            "Training_Loss: 1.2363454741277513  | Validation_Loss: 1.494406169652939\n",
            "Training_Accuracy: 0.5537471175193787  | Validation_Accuracy: 0.46202126145362854\n"
          ]
        },
        {
          "output_type": "stream",
          "name": "stderr",
          "text": [
            "\n",
            "100%|██████████| 157/157 [00:26<00:00,  5.89it/s]"
          ]
        },
        {
          "output_type": "stream",
          "name": "stdout",
          "text": [
            "Current Epoch: 7\n",
            "Training_Loss: 1.121736130517  | Validation_Loss: 1.2666245341300963\n",
            "Training_Accuracy: 0.600053608417511  | Validation_Accuracy: 0.5352635979652405\n"
          ]
        },
        {
          "output_type": "stream",
          "name": "stderr",
          "text": [
            "\n",
            "100%|██████████| 157/157 [00:27<00:00,  5.76it/s]"
          ]
        },
        {
          "output_type": "stream",
          "name": "stdout",
          "text": [
            "Current Epoch: 8\n",
            "Training_Loss: 1.028594732284546  | Validation_Loss: 1.1878752678632736\n",
            "Training_Accuracy: 0.6350951194763184  | Validation_Accuracy: 0.5766282677650452\n"
          ]
        },
        {
          "output_type": "stream",
          "name": "stderr",
          "text": [
            "\n",
            "100%|██████████| 157/157 [00:26<00:00,  5.88it/s]"
          ]
        },
        {
          "output_type": "stream",
          "name": "stdout",
          "text": [
            "Current Epoch: 9\n",
            "Training_Loss: 0.9445398233498737  | Validation_Loss: 1.0740601629018784\n",
            "Training_Accuracy: 0.6693824529647827  | Validation_Accuracy: 0.6090483069419861\n"
          ]
        },
        {
          "output_type": "stream",
          "name": "stderr",
          "text": [
            "\n",
            "100%|██████████| 157/157 [00:26<00:00,  5.95it/s]"
          ]
        },
        {
          "output_type": "stream",
          "name": "stdout",
          "text": [
            "Current Epoch: 10\n",
            "Training_Loss: 0.859631640516269  | Validation_Loss: 1.1169905319809914\n",
            "Training_Accuracy: 0.6978122591972351  | Validation_Accuracy: 0.617549479007721\n"
          ]
        },
        {
          "output_type": "stream",
          "name": "stderr",
          "text": [
            "\n"
          ]
        },
        {
          "output_type": "stream",
          "name": "stdout",
          "text": [
            "Warning: module Residual is treated as a zero-op.\n",
            "Warning: module Flatten is treated as a zero-op.\n",
            "Warning: module ResNet is treated as a zero-op.\n",
            "Time Taken to Train: 0:05:34.554755\n",
            "ResNet-32 Model Train Accuracy: 0.6978122591972351\n",
            "ResNet-32 Model Test Accuracy: 0.6252999901771545\n",
            "Macs:205.47 MMac | Params:17.38 M\n"
          ]
        },
        {
          "output_type": "execute_result",
          "data": {
            "text/plain": [
              "<matplotlib.legend.Legend at 0x7f36d7942d90>"
            ]
          },
          "metadata": {},
          "execution_count": 26
        },
        {
          "output_type": "display_data",
          "data": {
            "text/plain": [
              "<Figure size 432x288 with 1 Axes>"
            ],
            "image/png": "[encoded data removed]"
          },
          "metadata": {
            "needs_background": "light"
          }
        }
      ]
    },
    {
      "cell_type": "markdown",
      "source": [
        "### Results --  ResNet(18,26,32 Architectures) Model Comparison\n",
        "#### ResNet-18 Model\n",
        "\n",
        "---\n",
        "\n",
        "\n",
        "\n",
        "Time Taken to Train: 0:05:13.292934  \n",
        "ResNet-18 Model Train Accuracy: 0.9243401885032654  \n",
        "ResNet-18 Model Test Accuracy: 0.7236999869346619  \n",
        "Macs:148.76 MMac | Params:11.18 M\n",
        "\n",
        "#### ResNet-26 Model\n",
        "\n",
        "---\n",
        "\n",
        "\n",
        "    \n",
        "Time Taken to Train: 0:05:24.531777  \n",
        "ResNet-26 Model Train Accuracy: 0.8908166289329529  \n",
        "ResNet-26 Model Test Accuracy: 0.7288999557495117  \n",
        "Macs:186.59 MMac | Params:12.66 M\n",
        "\n",
        "#### ResNet-32 Model\n",
        "\n",
        "---\n",
        "\n",
        "Time Taken to Train: 0:05:34.554755  \n",
        "ResNet-32 Model Train Accuracy: 0.6978122591972351  \n",
        "ResNet-32 Model Test Accuracy: 0.6252999901771545  \n",
        "Macs:205.47 MMac | Params:17.38 M\n",
        "\n",
        "Interms of model complexity, ResNet did show a great performance with respect to the amount of parameters and computational units( has lower number) when compared to VGG and GoogLeNet models.\n",
        "\n",
        "Increasing the depth didn't really improve the models.\n"
      ],
      "metadata": {
        "id": "LbID2w9Z-YRR"
      }
    },
    {
      "cell_type": "markdown",
      "source": [
        "Problem 4) Denset Model -- Bonus Question"
      ],
      "metadata": {
        "id": "qbaL5xp3hwHa"
      }
    },
    {
      "cell_type": "code",
      "source": [
        "def conv_block(num_channels):\n",
        "    return nn.Sequential(\n",
        "        nn.LazyBatchNorm2d(), nn.ReLU(),\n",
        "        nn.LazyConv2d(num_channels, kernel_size=3, padding=1))"
      ],
      "metadata": {
        "id": "UX5wbl52SzIw"
      },
      "execution_count": 27,
      "outputs": []
    },
    {
      "cell_type": "code",
      "source": [
        "class DenseBlock(nn.Module):\n",
        "    def __init__(self, num_convs, num_channels):\n",
        "        super(DenseBlock, self).__init__()\n",
        "        layer = []\n",
        "        for i in range(num_convs):\n",
        "            layer.append(conv_block(num_channels))\n",
        "        self.net = nn.Sequential(*layer)\n",
        "\n",
        "    def forward(self, X):\n",
        "        for blk in self.net:\n",
        "            Y = blk(X)\n",
        "            \n",
        "            X = torch.cat((X, Y), dim=1)\n",
        "        return X"
      ],
      "metadata": {
        "id": "_NqJFadHh5U_"
      },
      "execution_count": 28,
      "outputs": []
    },
    {
      "cell_type": "code",
      "source": [
        "blk = DenseBlock(2, 10)\n",
        "X = torch.randn(4, 3, 8, 8)\n",
        "Y = blk(X)"
      ],
      "metadata": {
        "id": "s0cQsI_ph8gI"
      },
      "execution_count": 29,
      "outputs": []
    },
    {
      "cell_type": "code",
      "source": [
        "def transition_block(num_channels):\n",
        "    return nn.Sequential(\n",
        "        nn.LazyBatchNorm2d(), nn.ReLU(),\n",
        "        nn.LazyConv2d(num_channels, kernel_size=1),\n",
        "        nn.AvgPool2d(kernel_size=2, stride=2))"
      ],
      "metadata": {
        "id": "XHDUR84RiBG7"
      },
      "execution_count": 30,
      "outputs": []
    },
    {
      "cell_type": "code",
      "source": [
        "blk = transition_block(10)\n"
      ],
      "metadata": {
        "id": "Ag5q6oeViDmS"
      },
      "execution_count": 31,
      "outputs": []
    },
    {
      "cell_type": "code",
      "source": [
        "class DenseNet(nn.Module):\n",
        "    def b1(self):\n",
        "        return nn.Sequential(\n",
        "            nn.LazyConv2d(64, kernel_size=7, stride=2, padding=3),\n",
        "            nn.LazyBatchNorm2d(), nn.ReLU(),\n",
        "            nn.MaxPool2d(kernel_size=3, stride=2, padding=1))\n",
        "        \n",
        "    def __init__(self, num_channels=64, growth_rate=32, arch=(4, 4, 4, 4),\n",
        "             lr=0.1, num_classes=10):\n",
        "      super(DenseNet, self).__init__()\n",
        "      self.save_hyperparameters()\n",
        "      self.net = nn.Sequential(self.b1())\n",
        "      for i, num_convs in enumerate(arch):\n",
        "          self.net.add_module(f'dense_blk{i+1}', DenseBlock(num_convs,\n",
        "                                                            growth_rate))\n",
        "          \n",
        "          num_channels += num_convs * growth_rate\n",
        "          if i != len(arch) - 1:\n",
        "              num_channels //= 2\n",
        "              self.net.add_module(f'tran_blk{i+1}', transition_block(\n",
        "                  num_channels))\n",
        "      self.net.add_module('last', nn.Sequential(\n",
        "          nn.LazyBatchNorm2d(), nn.ReLU(),\n",
        "          nn.AdaptiveAvgPool2d((1, 1)), nn.Flatten(),\n",
        "          nn.LazyLinear(num_classes)))\n",
        "      self.net.apply(d2l.init_cnn)\n",
        "\n",
        "    def forward(self, x):\n",
        "        return self.net(x)"
      ],
      "metadata": {
        "id": "xvV7rSwliG5N"
      },
      "execution_count": 32,
      "outputs": []
    },
    {
      "cell_type": "code",
      "source": [
        "densenet_arch = ResNet(((2, 64), (2, 128), (2, 256), (2, 512)))\n",
        "\n",
        "densenet_Model = Train_Model(densenet_arch, nn.CrossEntropyLoss(), torch.optim.SGD(densenet_arch.parameters(), lr=0.1, momentum=0.9), MulticlassAccuracy, \"Classification\",  device_to_use, 10)\n",
        "\n",
        "t0 = datetime.now()\n",
        "densenet_Model.fit(trainLoader, validateLoader, 10)\n",
        "t1 = datetime.now()\n",
        "\n",
        "densenet_Model.Test_Model(testLoader)\n",
        "\n",
        "macs, params = get_model_complexity_info(densenet_Model.model, (3, 64, 64), as_strings=True, print_per_layer_stat=False, verbose=True)\n",
        "\n",
        "\n",
        "print(\"Time Taken to Train:\", t1 - t0)\n",
        "print(\"DenseNet Model Train Accuracy:\", densenet_Model.Metrics[\"Training_Accuracy\"][-1].item())\n",
        "print(\"DenseNet Model Test Accuracy:\", densenet_Model.Metrics[\"Test_Accuracy\"])\n",
        "\n",
        "    \n",
        "densenet_Model.model.to(\"cpu\")\n",
        "print(f\"Macs:{macs} | Params:{params}\")\n",
        "\n",
        "\n",
        "### PLOTTING METRICS\n",
        "plt.plot(densenet_Model.Metrics['Training_Accuracy'], label='Training Accuracy')\n",
        "plt.plot(densenet_Model.Metrics['Validation_Accuracy'], label='Validation Accuracy')\n",
        "plt.plot(densenet_Model.Metrics['Training_Loss'], label='Training Loss')\n",
        "plt.plot(densenet_Model.Metrics['Validation_Loss'], label='Validation Loss')\n",
        "plt.xlabel('Epoch')\n",
        "plt.ylabel('Metric')\n",
        "plt.legend()"
      ],
      "metadata": {
        "colab": {
          "base_uri": "https://localhost:8080/",
          "height": 1000
        },
        "id": "RIGUpKcLib1V",
        "outputId": "4c8f9a57-ce6c-46b7-b677-e41a15494eb7"
      },
      "execution_count": 33,
      "outputs": [
        {
          "output_type": "stream",
          "name": "stderr",
          "text": [
            "100%|██████████| 157/157 [00:25<00:00,  6.24it/s]"
          ]
        },
        {
          "output_type": "stream",
          "name": "stdout",
          "text": [
            "Current Epoch: 1\n",
            "Training_Loss: 1.9865892480133445  | Validation_Loss: 2.3024543464183806\n",
            "Training_Accuracy: 0.29404059052467346  | Validation_Accuracy: 0.11994870007038116\n"
          ]
        },
        {
          "output_type": "stream",
          "name": "stderr",
          "text": [
            "\n",
            "100%|██████████| 157/157 [00:29<00:00,  5.40it/s]"
          ]
        },
        {
          "output_type": "stream",
          "name": "stdout",
          "text": [
            "Current Epoch: 2\n",
            "Training_Loss: 1.4450056917348486  | Validation_Loss: 1.6473429173231124\n",
            "Training_Accuracy: 0.4703933298587799  | Validation_Accuracy: 0.3789897859096527\n"
          ]
        },
        {
          "output_type": "stream",
          "name": "stderr",
          "text": [
            "\n",
            "100%|██████████| 157/157 [00:28<00:00,  5.46it/s]"
          ]
        },
        {
          "output_type": "stream",
          "name": "stdout",
          "text": [
            "Current Epoch: 3\n",
            "Training_Loss: 1.2386455748491227  | Validation_Loss: 1.4100147187709808\n",
            "Training_Accuracy: 0.552726149559021  | Validation_Accuracy: 0.4878161549568176\n"
          ]
        },
        {
          "output_type": "stream",
          "name": "stderr",
          "text": [
            "\n",
            "100%|██████████| 157/157 [00:25<00:00,  6.18it/s]"
          ]
        },
        {
          "output_type": "stream",
          "name": "stdout",
          "text": [
            "Current Epoch: 4\n",
            "Training_Loss: 1.0583284015108825  | Validation_Loss: 1.3527561634778977\n",
            "Training_Accuracy: 0.6238508820533752  | Validation_Accuracy: 0.5264450311660767\n"
          ]
        },
        {
          "output_type": "stream",
          "name": "stderr",
          "text": [
            "\n",
            "100%|██████████| 157/157 [00:25<00:00,  6.20it/s]"
          ]
        },
        {
          "output_type": "stream",
          "name": "stdout",
          "text": [
            "Current Epoch: 5\n",
            "Training_Loss: 0.9170454197628483  | Validation_Loss: 1.0866026714444161\n",
            "Training_Accuracy: 0.6792738437652588  | Validation_Accuracy: 0.6215074062347412\n"
          ]
        },
        {
          "output_type": "stream",
          "name": "stderr",
          "text": [
            "\n",
            "100%|██████████| 157/157 [00:30<00:00,  5.13it/s]\n"
          ]
        },
        {
          "output_type": "stream",
          "name": "stdout",
          "text": [
            "Current Epoch: 6\n",
            "Training_Loss: 0.7961368511436852  | Validation_Loss: 1.0073020860552788\n",
            "Training_Accuracy: 0.7229923605918884  | Validation_Accuracy: 0.644310474395752\n"
          ]
        },
        {
          "output_type": "stream",
          "name": "stderr",
          "text": [
            "100%|██████████| 157/157 [00:28<00:00,  5.43it/s]"
          ]
        },
        {
          "output_type": "stream",
          "name": "stdout",
          "text": [
            "Current Epoch: 7\n",
            "Training_Loss: 0.6833461610374937  | Validation_Loss: 1.1334822162985803\n",
            "Training_Accuracy: 0.7642166018486023  | Validation_Accuracy: 0.6292586326599121\n"
          ]
        },
        {
          "output_type": "stream",
          "name": "stderr",
          "text": [
            "\n",
            "100%|██████████| 157/157 [00:28<00:00,  5.47it/s]"
          ]
        },
        {
          "output_type": "stream",
          "name": "stdout",
          "text": [
            "Current Epoch: 8\n",
            "Training_Loss: 0.5790552069806749  | Validation_Loss: 0.9210527032613754\n",
            "Training_Accuracy: 0.7993338704109192  | Validation_Accuracy: 0.6786718964576721\n"
          ]
        },
        {
          "output_type": "stream",
          "name": "stderr",
          "text": [
            "\n",
            "100%|██████████| 157/157 [00:29<00:00,  5.34it/s]"
          ]
        },
        {
          "output_type": "stream",
          "name": "stdout",
          "text": [
            "Current Epoch: 9\n",
            "Training_Loss: 0.48103465870687157  | Validation_Loss: 0.9927668511867523\n",
            "Training_Accuracy: 0.8351234197616577  | Validation_Accuracy: 0.6719495058059692\n"
          ]
        },
        {
          "output_type": "stream",
          "name": "stderr",
          "text": [
            "\n",
            "100%|██████████| 157/157 [00:25<00:00,  6.16it/s]"
          ]
        },
        {
          "output_type": "stream",
          "name": "stdout",
          "text": [
            "Current Epoch: 10\n",
            "Training_Loss: 0.3866064212504466  | Validation_Loss: 0.9207560777664184\n",
            "Training_Accuracy: 0.8655053377151489  | Validation_Accuracy: 0.7038558721542358\n"
          ]
        },
        {
          "output_type": "stream",
          "name": "stderr",
          "text": [
            "\n"
          ]
        },
        {
          "output_type": "stream",
          "name": "stdout",
          "text": [
            "Warning: module Residual is treated as a zero-op.\n",
            "Warning: module Flatten is treated as a zero-op.\n",
            "Warning: module ResNet is treated as a zero-op.\n",
            "Time Taken to Train: 0:05:34.631654\n",
            "DenseNet Model Train Accuracy: 0.8655053377151489\n",
            "DenseNet Model Test Accuracy: 0.624500036239624\n",
            "Macs:148.76 MMac | Params:11.18 M\n"
          ]
        },
        {
          "output_type": "execute_result",
          "data": {
            "text/plain": [
              "<matplotlib.legend.Legend at 0x7f36d770dfd0>"
            ]
          },
          "metadata": {},
          "execution_count": 33
        },
        {
          "output_type": "display_data",
          "data": {
            "text/plain": [
              "<Figure size 432x288 with 1 Axes>"
            ],
            "image/png": "[encoded data removed]"
          },
          "metadata": {
            "needs_background": "light"
          }
        }
      ]
    },
    {
      "cell_type": "markdown",
      "source": [
        "### Results\n",
        "#### DenseNet Model\n",
        "\n",
        "---\n",
        "\n",
        "\n",
        "\n",
        "Time Taken to Train: 0:05:34.631654  \n",
        "DenseNet Model Train Accuracy: 0.8655053377151489  \n",
        "DenseNet Model Test Accuracy: 0.624500036239624  \n",
        "Macs:148.76 MMac | Params:11.18 M\n",
        "\n",
        "ResNet-18 Model did show a better performance with respect to the train and test accuracies when compared to the DenseNet Model. (Parameters and computational units are the same)"
      ],
      "metadata": {
        "id": "x7ANU_NZoTGi"
      }
    }
  ]
}